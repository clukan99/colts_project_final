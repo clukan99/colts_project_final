{
 "cells": [
  {
   "cell_type": "code",
   "execution_count": 1,
   "metadata": {},
   "outputs": [],
   "source": [
    "import pandas as pd\n",
    "import numpy as np\n",
    "import seaborn as sns\n",
    "import matplotlib as plt\n",
    "import sklearn\n",
    "from datetime import date\n",
    "from datetime import datetime\n",
    "import math"
   ]
  },
  {
   "cell_type": "code",
   "execution_count": 2,
   "metadata": {},
   "outputs": [],
   "source": [
    "import torch\n",
    "import torch.nn as nn\n",
    "from torch.autograd import Variable\n",
    "import torch.optim as optim"
   ]
  },
  {
   "cell_type": "code",
   "execution_count": 3,
   "metadata": {},
   "outputs": [],
   "source": [
    "tickets_bare = pd.read_csv(\"../../Full_Data/tickets_bare_full.csv\")\n"
   ]
  },
  {
   "cell_type": "code",
   "execution_count": 4,
   "metadata": {},
   "outputs": [
    {
     "data": {
      "text/plain": [
       "array(['CLT21HOU', 'CLT21JAX', 'CLT21LAR', 'CLT21NE', 'CLT21NYJ',\n",
       "       'CLT21PRE', 'CLT21SEA', 'CLT21TB', 'CLT21TEN', 'CLT22JAX',\n",
       "       'CLT22KC', 'CLT22LAC', 'CLT22PHI', 'CLT22PIT', 'CLT22PR1',\n",
       "       'CLT22PR2', 'CLT22TEN', 'CLT22WAS', 'CLT21LV', 'CLT22HOU'],\n",
       "      dtype=object)"
      ]
     },
     "execution_count": 4,
     "metadata": {},
     "output_type": "execute_result"
    }
   ],
   "source": [
    "tickets_bare['event_name'].unique()"
   ]
  },
  {
   "cell_type": "code",
   "execution_count": null,
   "metadata": {},
   "outputs": [],
   "source": [
    "tickets_cleaned = pd.read_csv(\"../../Full_Data/tickets_cleaned_full.csv\")\n"
   ]
  },
  {
   "cell_type": "code",
   "execution_count": 5,
   "metadata": {},
   "outputs": [],
   "source": [
    "tickets_bare[['isAttended']] = tickets_bare[['isAttended']].replace(1,0)\n",
    "tickets_bare[['isAttended']] = tickets_bare[['isAttended']].replace(2,1)"
   ]
  },
  {
   "cell_type": "code",
   "execution_count": 6,
   "metadata": {},
   "outputs": [],
   "source": [
    "tickets_cleaned[['isAttended']] = tickets_cleaned[['isAttended']].replace(1,0)\n",
    "tickets_cleaned[['isAttended']] = tickets_cleaned[['isAttended']].replace(2,1)"
   ]
  },
  {
   "cell_type": "code",
   "execution_count": 7,
   "metadata": {},
   "outputs": [
    {
     "data": {
      "text/plain": [
       "array(['CLT21HOU', 'CLT21JAX', 'CLT21LAR', 'CLT21NE', 'CLT21NYJ',\n",
       "       'CLT21PRE', 'CLT21SEA', 'CLT21TB', 'CLT21TEN', 'CLT22JAX',\n",
       "       'CLT22KC', 'CLT22LAC', 'CLT22PHI', 'CLT22PIT', 'CLT22PR1',\n",
       "       'CLT22PR2', 'CLT22TEN', 'CLT22WAS', 'CLT21LV', 'CLT22HOU'],\n",
       "      dtype=object)"
      ]
     },
     "execution_count": 7,
     "metadata": {},
     "output_type": "execute_result"
    }
   ],
   "source": [
    "tickets_cleaned.event_name.unique()"
   ]
  },
  {
   "cell_type": "code",
   "execution_count": 8,
   "metadata": {},
   "outputs": [
    {
     "data": {
      "text/html": [
       "<div>\n",
       "<style scoped>\n",
       "    .dataframe tbody tr th:only-of-type {\n",
       "        vertical-align: middle;\n",
       "    }\n",
       "\n",
       "    .dataframe tbody tr th {\n",
       "        vertical-align: top;\n",
       "    }\n",
       "\n",
       "    .dataframe thead th {\n",
       "        text-align: right;\n",
       "    }\n",
       "</style>\n",
       "<table border=\"1\" class=\"dataframe\">\n",
       "  <thead>\n",
       "    <tr style=\"text-align: right;\">\n",
       "      <th></th>\n",
       "      <th>Unnamed: 0</th>\n",
       "      <th>event_name</th>\n",
       "      <th>Price</th>\n",
       "      <th>Term</th>\n",
       "      <th>SeatUniqueID</th>\n",
       "      <th>Tenure</th>\n",
       "      <th>UniqueID</th>\n",
       "      <th>isAttended</th>\n",
       "      <th>event_date_0</th>\n",
       "      <th>event_date_1</th>\n",
       "      <th>...</th>\n",
       "      <th>Saturday.1</th>\n",
       "      <th>Sunday</th>\n",
       "      <th>Sunday</th>\n",
       "      <th>Thursday</th>\n",
       "      <th>Sun_No</th>\n",
       "      <th>Sun_Yes</th>\n",
       "      <th>Mercch_Yes</th>\n",
       "      <th>Merch_No</th>\n",
       "      <th>other_events_No</th>\n",
       "      <th>other_events_Yes</th>\n",
       "    </tr>\n",
       "  </thead>\n",
       "  <tbody>\n",
       "    <tr>\n",
       "      <th>0</th>\n",
       "      <td>0</td>\n",
       "      <td>CLT21HOU</td>\n",
       "      <td>-0.098213</td>\n",
       "      <td>0.0</td>\n",
       "      <td>101-10-1</td>\n",
       "      <td>25.0</td>\n",
       "      <td>CLT21HOU-101-10-1</td>\n",
       "      <td>0</td>\n",
       "      <td>0.002213</td>\n",
       "      <td>0.000006</td>\n",
       "      <td>...</td>\n",
       "      <td>0.0</td>\n",
       "      <td>0.0</td>\n",
       "      <td>1.0</td>\n",
       "      <td>0.0</td>\n",
       "      <td>0.0</td>\n",
       "      <td>1.0</td>\n",
       "      <td>1.0</td>\n",
       "      <td>0.0</td>\n",
       "      <td>1.0</td>\n",
       "      <td>0.0</td>\n",
       "    </tr>\n",
       "    <tr>\n",
       "      <th>1</th>\n",
       "      <td>1</td>\n",
       "      <td>CLT21HOU</td>\n",
       "      <td>-0.098213</td>\n",
       "      <td>0.0</td>\n",
       "      <td>101-10-10</td>\n",
       "      <td>20.0</td>\n",
       "      <td>CLT21HOU-101-10-10</td>\n",
       "      <td>0</td>\n",
       "      <td>0.002213</td>\n",
       "      <td>0.000006</td>\n",
       "      <td>...</td>\n",
       "      <td>0.0</td>\n",
       "      <td>0.0</td>\n",
       "      <td>1.0</td>\n",
       "      <td>0.0</td>\n",
       "      <td>0.0</td>\n",
       "      <td>1.0</td>\n",
       "      <td>1.0</td>\n",
       "      <td>0.0</td>\n",
       "      <td>1.0</td>\n",
       "      <td>0.0</td>\n",
       "    </tr>\n",
       "    <tr>\n",
       "      <th>2</th>\n",
       "      <td>2</td>\n",
       "      <td>CLT21HOU</td>\n",
       "      <td>-0.098213</td>\n",
       "      <td>0.0</td>\n",
       "      <td>101-10-11</td>\n",
       "      <td>20.0</td>\n",
       "      <td>CLT21HOU-101-10-11</td>\n",
       "      <td>0</td>\n",
       "      <td>0.002213</td>\n",
       "      <td>0.000006</td>\n",
       "      <td>...</td>\n",
       "      <td>0.0</td>\n",
       "      <td>0.0</td>\n",
       "      <td>1.0</td>\n",
       "      <td>0.0</td>\n",
       "      <td>0.0</td>\n",
       "      <td>1.0</td>\n",
       "      <td>1.0</td>\n",
       "      <td>0.0</td>\n",
       "      <td>1.0</td>\n",
       "      <td>0.0</td>\n",
       "    </tr>\n",
       "    <tr>\n",
       "      <th>3</th>\n",
       "      <td>3</td>\n",
       "      <td>CLT21HOU</td>\n",
       "      <td>-0.098213</td>\n",
       "      <td>0.0</td>\n",
       "      <td>101-10-12</td>\n",
       "      <td>4.0</td>\n",
       "      <td>CLT21HOU-101-10-12</td>\n",
       "      <td>0</td>\n",
       "      <td>0.002213</td>\n",
       "      <td>0.000006</td>\n",
       "      <td>...</td>\n",
       "      <td>0.0</td>\n",
       "      <td>0.0</td>\n",
       "      <td>1.0</td>\n",
       "      <td>0.0</td>\n",
       "      <td>0.0</td>\n",
       "      <td>1.0</td>\n",
       "      <td>1.0</td>\n",
       "      <td>0.0</td>\n",
       "      <td>1.0</td>\n",
       "      <td>0.0</td>\n",
       "    </tr>\n",
       "    <tr>\n",
       "      <th>4</th>\n",
       "      <td>4</td>\n",
       "      <td>CLT21HOU</td>\n",
       "      <td>-0.098213</td>\n",
       "      <td>0.0</td>\n",
       "      <td>101-10-13</td>\n",
       "      <td>32.0</td>\n",
       "      <td>CLT21HOU-101-10-13</td>\n",
       "      <td>0</td>\n",
       "      <td>0.002213</td>\n",
       "      <td>0.000006</td>\n",
       "      <td>...</td>\n",
       "      <td>0.0</td>\n",
       "      <td>0.0</td>\n",
       "      <td>1.0</td>\n",
       "      <td>0.0</td>\n",
       "      <td>0.0</td>\n",
       "      <td>1.0</td>\n",
       "      <td>1.0</td>\n",
       "      <td>0.0</td>\n",
       "      <td>1.0</td>\n",
       "      <td>0.0</td>\n",
       "    </tr>\n",
       "  </tbody>\n",
       "</table>\n",
       "<p>5 rows × 43 columns</p>\n",
       "</div>"
      ],
      "text/plain": [
       "   Unnamed: 0 event_name     Price  Term SeatUniqueID  Tenure  \\\n",
       "0           0   CLT21HOU -0.098213   0.0     101-10-1    25.0   \n",
       "1           1   CLT21HOU -0.098213   0.0    101-10-10    20.0   \n",
       "2           2   CLT21HOU -0.098213   0.0    101-10-11    20.0   \n",
       "3           3   CLT21HOU -0.098213   0.0    101-10-12     4.0   \n",
       "4           4   CLT21HOU -0.098213   0.0    101-10-13    32.0   \n",
       "\n",
       "             UniqueID  isAttended  event_date_0  event_date_1  ...  \\\n",
       "0   CLT21HOU-101-10-1           0      0.002213      0.000006  ...   \n",
       "1  CLT21HOU-101-10-10           0      0.002213      0.000006  ...   \n",
       "2  CLT21HOU-101-10-11           0      0.002213      0.000006  ...   \n",
       "3  CLT21HOU-101-10-12           0      0.002213      0.000006  ...   \n",
       "4  CLT21HOU-101-10-13           0      0.002213      0.000006  ...   \n",
       "\n",
       "   Saturday.1  Sunday  Sunday   Thursday  Sun_No  Sun_Yes  Mercch_Yes  \\\n",
       "0         0.0     0.0      1.0       0.0     0.0      1.0         1.0   \n",
       "1         0.0     0.0      1.0       0.0     0.0      1.0         1.0   \n",
       "2         0.0     0.0      1.0       0.0     0.0      1.0         1.0   \n",
       "3         0.0     0.0      1.0       0.0     0.0      1.0         1.0   \n",
       "4         0.0     0.0      1.0       0.0     0.0      1.0         1.0   \n",
       "\n",
       "   Merch_No  other_events_No  other_events_Yes  \n",
       "0       0.0              1.0               0.0  \n",
       "1       0.0              1.0               0.0  \n",
       "2       0.0              1.0               0.0  \n",
       "3       0.0              1.0               0.0  \n",
       "4       0.0              1.0               0.0  \n",
       "\n",
       "[5 rows x 43 columns]"
      ]
     },
     "execution_count": 8,
     "metadata": {},
     "output_type": "execute_result"
    }
   ],
   "source": [
    "tickets_bare.head()\n",
    "# 1 means yes, 0 means no"
   ]
  },
  {
   "cell_type": "code",
   "execution_count": 9,
   "metadata": {},
   "outputs": [
    {
     "data": {
      "text/html": [
       "<div>\n",
       "<style scoped>\n",
       "    .dataframe tbody tr th:only-of-type {\n",
       "        vertical-align: middle;\n",
       "    }\n",
       "\n",
       "    .dataframe tbody tr th {\n",
       "        vertical-align: top;\n",
       "    }\n",
       "\n",
       "    .dataframe thead th {\n",
       "        text-align: right;\n",
       "    }\n",
       "</style>\n",
       "<table border=\"1\" class=\"dataframe\">\n",
       "  <thead>\n",
       "    <tr style=\"text-align: right;\">\n",
       "      <th></th>\n",
       "      <th>Unnamed: 0</th>\n",
       "      <th>Club</th>\n",
       "      <th>Comp</th>\n",
       "      <th>Employee</th>\n",
       "      <th>Group</th>\n",
       "      <th>Group NEW</th>\n",
       "      <th>Hold</th>\n",
       "      <th>Hold Account</th>\n",
       "      <th>House</th>\n",
       "      <th>Huntington</th>\n",
       "      <th>...</th>\n",
       "      <th>Saturday.1</th>\n",
       "      <th>Sunday</th>\n",
       "      <th>Sunday</th>\n",
       "      <th>Thursday</th>\n",
       "      <th>Sun_No</th>\n",
       "      <th>Sun_Yes</th>\n",
       "      <th>Mercch_Yes</th>\n",
       "      <th>Merch_No</th>\n",
       "      <th>other_events_No</th>\n",
       "      <th>other_events_Yes</th>\n",
       "    </tr>\n",
       "  </thead>\n",
       "  <tbody>\n",
       "    <tr>\n",
       "      <th>0</th>\n",
       "      <td>0</td>\n",
       "      <td>0.0</td>\n",
       "      <td>0.0</td>\n",
       "      <td>0.0</td>\n",
       "      <td>0.0</td>\n",
       "      <td>0.0</td>\n",
       "      <td>0.0</td>\n",
       "      <td>0.0</td>\n",
       "      <td>0.0</td>\n",
       "      <td>0.0</td>\n",
       "      <td>...</td>\n",
       "      <td>0.0</td>\n",
       "      <td>0.0</td>\n",
       "      <td>1.0</td>\n",
       "      <td>0.0</td>\n",
       "      <td>0.0</td>\n",
       "      <td>1.0</td>\n",
       "      <td>1.0</td>\n",
       "      <td>0.0</td>\n",
       "      <td>1.0</td>\n",
       "      <td>0.0</td>\n",
       "    </tr>\n",
       "    <tr>\n",
       "      <th>1</th>\n",
       "      <td>1</td>\n",
       "      <td>0.0</td>\n",
       "      <td>0.0</td>\n",
       "      <td>0.0</td>\n",
       "      <td>0.0</td>\n",
       "      <td>0.0</td>\n",
       "      <td>0.0</td>\n",
       "      <td>0.0</td>\n",
       "      <td>0.0</td>\n",
       "      <td>0.0</td>\n",
       "      <td>...</td>\n",
       "      <td>0.0</td>\n",
       "      <td>0.0</td>\n",
       "      <td>1.0</td>\n",
       "      <td>0.0</td>\n",
       "      <td>0.0</td>\n",
       "      <td>1.0</td>\n",
       "      <td>1.0</td>\n",
       "      <td>0.0</td>\n",
       "      <td>1.0</td>\n",
       "      <td>0.0</td>\n",
       "    </tr>\n",
       "    <tr>\n",
       "      <th>2</th>\n",
       "      <td>2</td>\n",
       "      <td>0.0</td>\n",
       "      <td>0.0</td>\n",
       "      <td>0.0</td>\n",
       "      <td>0.0</td>\n",
       "      <td>0.0</td>\n",
       "      <td>0.0</td>\n",
       "      <td>0.0</td>\n",
       "      <td>0.0</td>\n",
       "      <td>0.0</td>\n",
       "      <td>...</td>\n",
       "      <td>0.0</td>\n",
       "      <td>0.0</td>\n",
       "      <td>1.0</td>\n",
       "      <td>0.0</td>\n",
       "      <td>0.0</td>\n",
       "      <td>1.0</td>\n",
       "      <td>1.0</td>\n",
       "      <td>0.0</td>\n",
       "      <td>1.0</td>\n",
       "      <td>0.0</td>\n",
       "    </tr>\n",
       "    <tr>\n",
       "      <th>3</th>\n",
       "      <td>3</td>\n",
       "      <td>0.0</td>\n",
       "      <td>0.0</td>\n",
       "      <td>0.0</td>\n",
       "      <td>0.0</td>\n",
       "      <td>0.0</td>\n",
       "      <td>0.0</td>\n",
       "      <td>0.0</td>\n",
       "      <td>0.0</td>\n",
       "      <td>0.0</td>\n",
       "      <td>...</td>\n",
       "      <td>0.0</td>\n",
       "      <td>0.0</td>\n",
       "      <td>1.0</td>\n",
       "      <td>0.0</td>\n",
       "      <td>0.0</td>\n",
       "      <td>1.0</td>\n",
       "      <td>1.0</td>\n",
       "      <td>0.0</td>\n",
       "      <td>1.0</td>\n",
       "      <td>0.0</td>\n",
       "    </tr>\n",
       "    <tr>\n",
       "      <th>4</th>\n",
       "      <td>4</td>\n",
       "      <td>0.0</td>\n",
       "      <td>0.0</td>\n",
       "      <td>0.0</td>\n",
       "      <td>0.0</td>\n",
       "      <td>0.0</td>\n",
       "      <td>0.0</td>\n",
       "      <td>0.0</td>\n",
       "      <td>0.0</td>\n",
       "      <td>0.0</td>\n",
       "      <td>...</td>\n",
       "      <td>0.0</td>\n",
       "      <td>0.0</td>\n",
       "      <td>1.0</td>\n",
       "      <td>0.0</td>\n",
       "      <td>0.0</td>\n",
       "      <td>1.0</td>\n",
       "      <td>1.0</td>\n",
       "      <td>0.0</td>\n",
       "      <td>1.0</td>\n",
       "      <td>0.0</td>\n",
       "    </tr>\n",
       "  </tbody>\n",
       "</table>\n",
       "<p>5 rows × 1933 columns</p>\n",
       "</div>"
      ],
      "text/plain": [
       "   Unnamed: 0  Club  Comp  Employee  Group  Group NEW  Hold  Hold Account  \\\n",
       "0           0   0.0   0.0       0.0    0.0        0.0   0.0           0.0   \n",
       "1           1   0.0   0.0       0.0    0.0        0.0   0.0           0.0   \n",
       "2           2   0.0   0.0       0.0    0.0        0.0   0.0           0.0   \n",
       "3           3   0.0   0.0       0.0    0.0        0.0   0.0           0.0   \n",
       "4           4   0.0   0.0       0.0    0.0        0.0   0.0           0.0   \n",
       "\n",
       "   House  Huntington  ...  Saturday.1  Sunday  Sunday   Thursday  Sun_No  \\\n",
       "0    0.0         0.0  ...         0.0     0.0      1.0       0.0     0.0   \n",
       "1    0.0         0.0  ...         0.0     0.0      1.0       0.0     0.0   \n",
       "2    0.0         0.0  ...         0.0     0.0      1.0       0.0     0.0   \n",
       "3    0.0         0.0  ...         0.0     0.0      1.0       0.0     0.0   \n",
       "4    0.0         0.0  ...         0.0     0.0      1.0       0.0     0.0   \n",
       "\n",
       "   Sun_Yes  Mercch_Yes  Merch_No  other_events_No  other_events_Yes  \n",
       "0      1.0         1.0       0.0              1.0               0.0  \n",
       "1      1.0         1.0       0.0              1.0               0.0  \n",
       "2      1.0         1.0       0.0              1.0               0.0  \n",
       "3      1.0         1.0       0.0              1.0               0.0  \n",
       "4      1.0         1.0       0.0              1.0               0.0  \n",
       "\n",
       "[5 rows x 1933 columns]"
      ]
     },
     "execution_count": 9,
     "metadata": {},
     "output_type": "execute_result"
    }
   ],
   "source": [
    "tickets_cleaned.head()"
   ]
  },
  {
   "cell_type": "code",
   "execution_count": 10,
   "metadata": {},
   "outputs": [],
   "source": [
    "tickets_cleaned_extra_copy = tickets_cleaned.copy()"
   ]
  },
  {
   "cell_type": "code",
   "execution_count": 11,
   "metadata": {},
   "outputs": [],
   "source": [
    "tickets_cleaned = tickets_cleaned.sample(frac= 0.00005, replace= False, random_state= 1234)"
   ]
  },
  {
   "attachments": {},
   "cell_type": "markdown",
   "metadata": {},
   "source": [
    "### Splitting the data"
   ]
  },
  {
   "cell_type": "code",
   "execution_count": 12,
   "metadata": {},
   "outputs": [],
   "source": [
    "test = tickets_cleaned[(tickets_cleaned['event_name'] == 'CLT21LV') | tickets_cleaned['event_name'] == 'CLT22HOU']\n",
    "train = tickets_cleaned[(tickets_cleaned['event_name'] != 'CLT21LV') & tickets_cleaned['event_name'] != 'CLT22HOU']"
   ]
  },
  {
   "cell_type": "code",
   "execution_count": 9,
   "metadata": {},
   "outputs": [],
   "source": [
    "#test = tickets_cleaned[(tickets_cleaned['event_name'] == 'CLT21JAX')]\n",
    "#train = tickets_cleaned[(tickets_cleaned['event_name'] != 'CLT21LV') & (tickets_cleaned['event_name'] != 'CLT22HOU') & (tickets_cleaned['event_name'] != 'CLT21JAX')]"
   ]
  },
  {
   "cell_type": "code",
   "execution_count": 13,
   "metadata": {},
   "outputs": [],
   "source": [
    "test_UniqueID = test[['UniqueID', 'isAttended']]"
   ]
  },
  {
   "attachments": {},
   "cell_type": "markdown",
   "metadata": {},
   "source": [
    "- Must drop the uncodable data"
   ]
  },
  {
   "cell_type": "code",
   "execution_count": 14,
   "metadata": {},
   "outputs": [],
   "source": [
    "train = train.drop(labels = ['event_name', 'UniqueID', 'Unnamed: 0', 'SeatUniqueID'], axis= 1)\n",
    "test = test.drop(labels = ['event_name', 'UniqueID', 'Unnamed: 0', 'SeatUniqueID'], axis = 1)"
   ]
  },
  {
   "cell_type": "code",
   "execution_count": 15,
   "metadata": {},
   "outputs": [],
   "source": [
    "y_train = train[['isAttended']]\n",
    "y_test = test[['isAttended']]"
   ]
  },
  {
   "cell_type": "code",
   "execution_count": 16,
   "metadata": {},
   "outputs": [],
   "source": [
    "X_train = train.drop(labels= ['isAttended'], axis = 1)\n",
    "X_test = test.drop(labels = ['isAttended'], axis = 1)\n"
   ]
  },
  {
   "cell_type": "code",
   "execution_count": 17,
   "metadata": {},
   "outputs": [
    {
     "data": {
      "text/plain": [
       "1928"
      ]
     },
     "execution_count": 17,
     "metadata": {},
     "output_type": "execute_result"
    }
   ],
   "source": [
    "X_train.shape[1]"
   ]
  },
  {
   "cell_type": "code",
   "execution_count": 18,
   "metadata": {},
   "outputs": [],
   "source": [
    "X_train_columns = X_train.columns\n",
    "X_test_columns = X_test.columns\n",
    "y_train_columns = y_train.columns\n",
    "y_test_columns = y_test.columns"
   ]
  },
  {
   "cell_type": "code",
   "execution_count": 17,
   "metadata": {},
   "outputs": [],
   "source": [
    "#X_train = X_train.to_numpy(dtype= 'float32')\n",
    "#X_test = X_test.to_numpy(dtype = 'float32')\n",
    "#y_train = y_train.to_numpy(dtype = 'float32')\n",
    "#y_test = y_test.to_numpy(dtype = 'float32')"
   ]
  },
  {
   "cell_type": "code",
   "execution_count": 19,
   "metadata": {},
   "outputs": [],
   "source": [
    "X_train = X_train.to_numpy()\n",
    "X_test = X_test.to_numpy()\n",
    "y_train = y_train.to_numpy()\n",
    "y_test = y_test.to_numpy()"
   ]
  },
  {
   "cell_type": "code",
   "execution_count": null,
   "metadata": {},
   "outputs": [],
   "source": [
    "X_train = torch.tensor(X_train, dtype= torch.float32, requires_grad= True)\n",
    "X_test =  torch.tensor(X_test, dtype = torch.float32, requires_grad= True)\n",
    "y_train = torch.tensor(y_train, dtype = torch.float32, requires_grad= True)\n",
    "y_test =  torch.tensor(y_test,dtype = torch.float32, requires_grad= True)"
   ]
  },
  {
   "cell_type": "code",
   "execution_count": 1,
   "metadata": {},
   "outputs": [
    {
     "name": "stdout",
     "output_type": "stream",
     "text": [
      "0\n",
      "4\n",
      "6\n",
      "7\n",
      "9\n",
      "10\n",
      "34\n"
     ]
    }
   ],
   "source": []
  }
 ],
 "metadata": {
  "kernelspec": {
   "display_name": "base",
   "language": "python",
   "name": "python3"
  },
  "language_info": {
   "codemirror_mode": {
    "name": "ipython",
    "version": 3
   },
   "file_extension": ".py",
   "mimetype": "text/x-python",
   "name": "python",
   "nbconvert_exporter": "python",
   "pygments_lexer": "ipython3",
   "version": "3.9.7"
  },
  "orig_nbformat": 4,
  "vscode": {
   "interpreter": {
    "hash": "3edbd7b23b0fac25ed01096b34e5f59511cb659c0b1d4bb21fa4d1eb2f403c11"
   }
  }
 },
 "nbformat": 4,
 "nbformat_minor": 2
}
