{
 "cells": [
  {
   "cell_type": "code",
   "execution_count": 1,
   "metadata": {},
   "outputs": [],
   "source": [
    "import pandas as pd\n",
    "import numpy as np\n",
    "import seaborn as sns\n",
    "import matplotlib as plt\n",
    "import sklearn\n",
    "from datetime import date\n",
    "from datetime import datetime\n",
    "import math"
   ]
  },
  {
   "cell_type": "code",
   "execution_count": 2,
   "metadata": {},
   "outputs": [],
   "source": [
    "import torch\n",
    "import torch.nn as nn\n",
    "from torch.autograd import Variable\n",
    "import torch.optim as optim"
   ]
  },
  {
   "cell_type": "code",
   "execution_count": 3,
   "metadata": {},
   "outputs": [],
   "source": [
    "from sklearn.ensemble import RandomForestClassifier\n"
   ]
  },
  {
   "cell_type": "code",
   "execution_count": 4,
   "metadata": {},
   "outputs": [],
   "source": [
    "tickets_bare = pd.read_csv(\"../Partial_Data/ticket_bare_partial.csv\")"
   ]
  },
  {
   "cell_type": "code",
   "execution_count": 5,
   "metadata": {},
   "outputs": [],
   "source": [
    "tickets_cleaned = pd.read_csv(\"../Partial_Data/ticket_cleaned_partial.csv\")"
   ]
  },
  {
   "cell_type": "code",
   "execution_count": 6,
   "metadata": {},
   "outputs": [],
   "source": [
    "tickets_bare[['isAttended']] = tickets_bare[['isAttended']].replace(1,0)\n",
    "tickets_bare[['isAttended']] = tickets_bare[['isAttended']].replace(2,1)"
   ]
  },
  {
   "cell_type": "code",
   "execution_count": 7,
   "metadata": {},
   "outputs": [],
   "source": [
    "tickets_cleaned[['isAttended']] = tickets_cleaned[['isAttended']].replace(1,0)\n",
    "tickets_cleaned[['isAttended']] = tickets_cleaned[['isAttended']].replace(2,1)"
   ]
  },
  {
   "cell_type": "code",
   "execution_count": 8,
   "metadata": {},
   "outputs": [
    {
     "data": {
      "text/plain": [
       "array(['CLT22TEN', 'CLT21LAR', 'CLT21NYJ', 'CLT21TEN', 'CLT21NE',\n",
       "       'CLT21JAX', 'CLT21SEA', 'CLT22PR1', 'CLT22LAC', 'CLT21PRE',\n",
       "       'CLT22HOU', 'CLT22PHI', 'CLT21TB', 'CLT22JAX', 'CLT22KC',\n",
       "       'CLT22PIT', 'CLT22WAS', 'CLT22PR2', 'CLT21HOU', 'CLT21LV'],\n",
       "      dtype=object)"
      ]
     },
     "execution_count": 8,
     "metadata": {},
     "output_type": "execute_result"
    }
   ],
   "source": [
    "tickets_cleaned.event_name.unique()"
   ]
  },
  {
   "cell_type": "code",
   "execution_count": 9,
   "metadata": {},
   "outputs": [
    {
     "data": {
      "text/html": [
       "<div>\n",
       "<style scoped>\n",
       "    .dataframe tbody tr th:only-of-type {\n",
       "        vertical-align: middle;\n",
       "    }\n",
       "\n",
       "    .dataframe tbody tr th {\n",
       "        vertical-align: top;\n",
       "    }\n",
       "\n",
       "    .dataframe thead th {\n",
       "        text-align: right;\n",
       "    }\n",
       "</style>\n",
       "<table border=\"1\" class=\"dataframe\">\n",
       "  <thead>\n",
       "    <tr style=\"text-align: right;\">\n",
       "      <th></th>\n",
       "      <th>Unnamed: 0</th>\n",
       "      <th>event_name</th>\n",
       "      <th>Price</th>\n",
       "      <th>Term</th>\n",
       "      <th>SeatUniqueID</th>\n",
       "      <th>Tenure</th>\n",
       "      <th>UniqueID</th>\n",
       "      <th>isAttended</th>\n",
       "      <th>event_date_0</th>\n",
       "      <th>event_date_1</th>\n",
       "      <th>event_date_2</th>\n",
       "      <th>event_date_3</th>\n",
       "      <th>event_date_4</th>\n",
       "      <th>event_date_5</th>\n",
       "      <th>event_date_6</th>\n",
       "      <th>event_date_7</th>\n",
       "      <th>event_date_8</th>\n",
       "      <th>event_date_9</th>\n",
       "      <th>event_date_10</th>\n",
       "      <th>event_date_11</th>\n",
       "    </tr>\n",
       "  </thead>\n",
       "  <tbody>\n",
       "    <tr>\n",
       "      <th>0</th>\n",
       "      <td>1184483</td>\n",
       "      <td>CLT22TEN</td>\n",
       "      <td>0.449643</td>\n",
       "      <td>0.0</td>\n",
       "      <td>244-4-20</td>\n",
       "      <td>4.0</td>\n",
       "      <td>CLT22TEN-244-4-20</td>\n",
       "      <td>1</td>\n",
       "      <td>0.000150</td>\n",
       "      <td>1.463375e-07</td>\n",
       "      <td>1.929034e-11</td>\n",
       "      <td>3.441402e-16</td>\n",
       "      <td>9.976816e-12</td>\n",
       "      <td>8.635293e-08</td>\n",
       "      <td>1.011517e-04</td>\n",
       "      <td>1.603542e-02</td>\n",
       "      <td>0.344032</td>\n",
       "      <td>0.998914</td>\n",
       "      <td>0.392526</td>\n",
       "      <td>0.020875</td>\n",
       "    </tr>\n",
       "    <tr>\n",
       "      <th>1</th>\n",
       "      <td>143077</td>\n",
       "      <td>CLT21LAR</td>\n",
       "      <td>0.810996</td>\n",
       "      <td>0.0</td>\n",
       "      <td>143-3-4</td>\n",
       "      <td>38.0</td>\n",
       "      <td>CLT21LAR-143-3-4</td>\n",
       "      <td>1</td>\n",
       "      <td>0.000010</td>\n",
       "      <td>4.063025e-09</td>\n",
       "      <td>2.272907e-13</td>\n",
       "      <td>2.286315e-14</td>\n",
       "      <td>6.205227e-10</td>\n",
       "      <td>2.279242e-06</td>\n",
       "      <td>1.133011e-03</td>\n",
       "      <td>7.622352e-02</td>\n",
       "      <td>0.693993</td>\n",
       "      <td>0.855129</td>\n",
       "      <td>0.142600</td>\n",
       "      <td>0.003218</td>\n",
       "    </tr>\n",
       "    <tr>\n",
       "      <th>2</th>\n",
       "      <td>381355</td>\n",
       "      <td>CLT21NYJ</td>\n",
       "      <td>-0.750978</td>\n",
       "      <td>0.0</td>\n",
       "      <td>636-4-15</td>\n",
       "      <td>1.0</td>\n",
       "      <td>CLT21NYJ-636-4-15</td>\n",
       "      <td>1</td>\n",
       "      <td>0.029273</td>\n",
       "      <td>2.511809e-04</td>\n",
       "      <td>2.916887e-07</td>\n",
       "      <td>4.584199e-11</td>\n",
       "      <td>9.750311e-16</td>\n",
       "      <td>4.086211e-12</td>\n",
       "      <td>4.216629e-08</td>\n",
       "      <td>5.888722e-05</td>\n",
       "      <td>0.011130</td>\n",
       "      <td>0.284686</td>\n",
       "      <td>0.985494</td>\n",
       "      <td>0.461694</td>\n",
       "    </tr>\n",
       "    <tr>\n",
       "      <th>3</th>\n",
       "      <td>597803</td>\n",
       "      <td>CLT21TEN</td>\n",
       "      <td>0.053322</td>\n",
       "      <td>0.0</td>\n",
       "      <td>206-13-18</td>\n",
       "      <td>4.0</td>\n",
       "      <td>CLT21TEN-206-13-18</td>\n",
       "      <td>1</td>\n",
       "      <td>0.017526</td>\n",
       "      <td>1.155214e-04</td>\n",
       "      <td>1.030519e-07</td>\n",
       "      <td>1.244116e-11</td>\n",
       "      <td>2.646158e-16</td>\n",
       "      <td>1.549923e-11</td>\n",
       "      <td>1.228614e-07</td>\n",
       "      <td>1.318050e-04</td>\n",
       "      <td>0.019136</td>\n",
       "      <td>0.376009</td>\n",
       "      <td>0.999879</td>\n",
       "      <td>0.359839</td>\n",
       "    </tr>\n",
       "    <tr>\n",
       "      <th>4</th>\n",
       "      <td>288379</td>\n",
       "      <td>CLT21NE</td>\n",
       "      <td>-0.226435</td>\n",
       "      <td>0.0</td>\n",
       "      <td>401-3-8</td>\n",
       "      <td>5.0</td>\n",
       "      <td>CLT21NE-401-3-8</td>\n",
       "      <td>1</td>\n",
       "      <td>0.832208</td>\n",
       "      <td>1.299226e-01</td>\n",
       "      <td>2.745041e-03</td>\n",
       "      <td>7.849176e-06</td>\n",
       "      <td>3.037458e-09</td>\n",
       "      <td>1.590770e-13</td>\n",
       "      <td>3.304797e-14</td>\n",
       "      <td>8.397145e-10</td>\n",
       "      <td>0.000003</td>\n",
       "      <td>0.001344</td>\n",
       "      <td>0.084637</td>\n",
       "      <td>0.721422</td>\n",
       "    </tr>\n",
       "  </tbody>\n",
       "</table>\n",
       "</div>"
      ],
      "text/plain": [
       "   Unnamed: 0 event_name     Price  Term SeatUniqueID  Tenure  \\\n",
       "0     1184483   CLT22TEN  0.449643   0.0     244-4-20     4.0   \n",
       "1      143077   CLT21LAR  0.810996   0.0      143-3-4    38.0   \n",
       "2      381355   CLT21NYJ -0.750978   0.0     636-4-15     1.0   \n",
       "3      597803   CLT21TEN  0.053322   0.0    206-13-18     4.0   \n",
       "4      288379    CLT21NE -0.226435   0.0      401-3-8     5.0   \n",
       "\n",
       "             UniqueID  isAttended  event_date_0  event_date_1  event_date_2  \\\n",
       "0   CLT22TEN-244-4-20           1      0.000150  1.463375e-07  1.929034e-11   \n",
       "1    CLT21LAR-143-3-4           1      0.000010  4.063025e-09  2.272907e-13   \n",
       "2   CLT21NYJ-636-4-15           1      0.029273  2.511809e-04  2.916887e-07   \n",
       "3  CLT21TEN-206-13-18           1      0.017526  1.155214e-04  1.030519e-07   \n",
       "4     CLT21NE-401-3-8           1      0.832208  1.299226e-01  2.745041e-03   \n",
       "\n",
       "   event_date_3  event_date_4  event_date_5  event_date_6  event_date_7  \\\n",
       "0  3.441402e-16  9.976816e-12  8.635293e-08  1.011517e-04  1.603542e-02   \n",
       "1  2.286315e-14  6.205227e-10  2.279242e-06  1.133011e-03  7.622352e-02   \n",
       "2  4.584199e-11  9.750311e-16  4.086211e-12  4.216629e-08  5.888722e-05   \n",
       "3  1.244116e-11  2.646158e-16  1.549923e-11  1.228614e-07  1.318050e-04   \n",
       "4  7.849176e-06  3.037458e-09  1.590770e-13  3.304797e-14  8.397145e-10   \n",
       "\n",
       "   event_date_8  event_date_9  event_date_10  event_date_11  \n",
       "0      0.344032      0.998914       0.392526       0.020875  \n",
       "1      0.693993      0.855129       0.142600       0.003218  \n",
       "2      0.011130      0.284686       0.985494       0.461694  \n",
       "3      0.019136      0.376009       0.999879       0.359839  \n",
       "4      0.000003      0.001344       0.084637       0.721422  "
      ]
     },
     "execution_count": 9,
     "metadata": {},
     "output_type": "execute_result"
    }
   ],
   "source": [
    "tickets_bare.head()\n",
    "# 1 means yes, 0 means no"
   ]
  },
  {
   "cell_type": "code",
   "execution_count": 10,
   "metadata": {},
   "outputs": [
    {
     "data": {
      "text/html": [
       "<div>\n",
       "<style scoped>\n",
       "    .dataframe tbody tr th:only-of-type {\n",
       "        vertical-align: middle;\n",
       "    }\n",
       "\n",
       "    .dataframe tbody tr th {\n",
       "        vertical-align: top;\n",
       "    }\n",
       "\n",
       "    .dataframe thead th {\n",
       "        text-align: right;\n",
       "    }\n",
       "</style>\n",
       "<table border=\"1\" class=\"dataframe\">\n",
       "  <thead>\n",
       "    <tr style=\"text-align: right;\">\n",
       "      <th></th>\n",
       "      <th>Unnamed: 0</th>\n",
       "      <th>Club</th>\n",
       "      <th>Comp</th>\n",
       "      <th>Employee</th>\n",
       "      <th>Group</th>\n",
       "      <th>Group NEW</th>\n",
       "      <th>Hold</th>\n",
       "      <th>Hold Account</th>\n",
       "      <th>House</th>\n",
       "      <th>Huntington</th>\n",
       "      <th>...</th>\n",
       "      <th>event_date_2</th>\n",
       "      <th>event_date_3</th>\n",
       "      <th>event_date_4</th>\n",
       "      <th>event_date_5</th>\n",
       "      <th>event_date_6</th>\n",
       "      <th>event_date_7</th>\n",
       "      <th>event_date_8</th>\n",
       "      <th>event_date_9</th>\n",
       "      <th>event_date_10</th>\n",
       "      <th>event_date_11</th>\n",
       "    </tr>\n",
       "  </thead>\n",
       "  <tbody>\n",
       "    <tr>\n",
       "      <th>0</th>\n",
       "      <td>1184483</td>\n",
       "      <td>0.0</td>\n",
       "      <td>0.0</td>\n",
       "      <td>0.0</td>\n",
       "      <td>0.0</td>\n",
       "      <td>0.0</td>\n",
       "      <td>0.0</td>\n",
       "      <td>0.0</td>\n",
       "      <td>0.0</td>\n",
       "      <td>0.0</td>\n",
       "      <td>...</td>\n",
       "      <td>1.929034e-11</td>\n",
       "      <td>3.441402e-16</td>\n",
       "      <td>9.976816e-12</td>\n",
       "      <td>8.635293e-08</td>\n",
       "      <td>1.011517e-04</td>\n",
       "      <td>1.603542e-02</td>\n",
       "      <td>0.344032</td>\n",
       "      <td>0.998914</td>\n",
       "      <td>0.392526</td>\n",
       "      <td>0.020875</td>\n",
       "    </tr>\n",
       "    <tr>\n",
       "      <th>1</th>\n",
       "      <td>143077</td>\n",
       "      <td>0.0</td>\n",
       "      <td>0.0</td>\n",
       "      <td>0.0</td>\n",
       "      <td>0.0</td>\n",
       "      <td>0.0</td>\n",
       "      <td>0.0</td>\n",
       "      <td>0.0</td>\n",
       "      <td>0.0</td>\n",
       "      <td>0.0</td>\n",
       "      <td>...</td>\n",
       "      <td>2.272907e-13</td>\n",
       "      <td>2.286315e-14</td>\n",
       "      <td>6.205227e-10</td>\n",
       "      <td>2.279242e-06</td>\n",
       "      <td>1.133011e-03</td>\n",
       "      <td>7.622352e-02</td>\n",
       "      <td>0.693993</td>\n",
       "      <td>0.855129</td>\n",
       "      <td>0.142600</td>\n",
       "      <td>0.003218</td>\n",
       "    </tr>\n",
       "    <tr>\n",
       "      <th>2</th>\n",
       "      <td>381355</td>\n",
       "      <td>0.0</td>\n",
       "      <td>0.0</td>\n",
       "      <td>0.0</td>\n",
       "      <td>0.0</td>\n",
       "      <td>0.0</td>\n",
       "      <td>0.0</td>\n",
       "      <td>0.0</td>\n",
       "      <td>0.0</td>\n",
       "      <td>0.0</td>\n",
       "      <td>...</td>\n",
       "      <td>2.916887e-07</td>\n",
       "      <td>4.584199e-11</td>\n",
       "      <td>9.750311e-16</td>\n",
       "      <td>4.086211e-12</td>\n",
       "      <td>4.216629e-08</td>\n",
       "      <td>5.888722e-05</td>\n",
       "      <td>0.011130</td>\n",
       "      <td>0.284686</td>\n",
       "      <td>0.985494</td>\n",
       "      <td>0.461694</td>\n",
       "    </tr>\n",
       "    <tr>\n",
       "      <th>3</th>\n",
       "      <td>597803</td>\n",
       "      <td>0.0</td>\n",
       "      <td>0.0</td>\n",
       "      <td>0.0</td>\n",
       "      <td>0.0</td>\n",
       "      <td>0.0</td>\n",
       "      <td>0.0</td>\n",
       "      <td>0.0</td>\n",
       "      <td>0.0</td>\n",
       "      <td>0.0</td>\n",
       "      <td>...</td>\n",
       "      <td>1.030519e-07</td>\n",
       "      <td>1.244116e-11</td>\n",
       "      <td>2.646158e-16</td>\n",
       "      <td>1.549923e-11</td>\n",
       "      <td>1.228614e-07</td>\n",
       "      <td>1.318050e-04</td>\n",
       "      <td>0.019136</td>\n",
       "      <td>0.376009</td>\n",
       "      <td>0.999879</td>\n",
       "      <td>0.359839</td>\n",
       "    </tr>\n",
       "    <tr>\n",
       "      <th>4</th>\n",
       "      <td>288379</td>\n",
       "      <td>0.0</td>\n",
       "      <td>0.0</td>\n",
       "      <td>0.0</td>\n",
       "      <td>0.0</td>\n",
       "      <td>0.0</td>\n",
       "      <td>0.0</td>\n",
       "      <td>0.0</td>\n",
       "      <td>0.0</td>\n",
       "      <td>0.0</td>\n",
       "      <td>...</td>\n",
       "      <td>2.745041e-03</td>\n",
       "      <td>7.849176e-06</td>\n",
       "      <td>3.037458e-09</td>\n",
       "      <td>1.590770e-13</td>\n",
       "      <td>3.304797e-14</td>\n",
       "      <td>8.397145e-10</td>\n",
       "      <td>0.000003</td>\n",
       "      <td>0.001344</td>\n",
       "      <td>0.084637</td>\n",
       "      <td>0.721422</td>\n",
       "    </tr>\n",
       "  </tbody>\n",
       "</table>\n",
       "<p>5 rows × 1910 columns</p>\n",
       "</div>"
      ],
      "text/plain": [
       "   Unnamed: 0  Club  Comp  Employee  Group  Group NEW  Hold  Hold Account  \\\n",
       "0     1184483   0.0   0.0       0.0    0.0        0.0   0.0           0.0   \n",
       "1      143077   0.0   0.0       0.0    0.0        0.0   0.0           0.0   \n",
       "2      381355   0.0   0.0       0.0    0.0        0.0   0.0           0.0   \n",
       "3      597803   0.0   0.0       0.0    0.0        0.0   0.0           0.0   \n",
       "4      288379   0.0   0.0       0.0    0.0        0.0   0.0           0.0   \n",
       "\n",
       "   House  Huntington  ...  event_date_2  event_date_3  event_date_4  \\\n",
       "0    0.0         0.0  ...  1.929034e-11  3.441402e-16  9.976816e-12   \n",
       "1    0.0         0.0  ...  2.272907e-13  2.286315e-14  6.205227e-10   \n",
       "2    0.0         0.0  ...  2.916887e-07  4.584199e-11  9.750311e-16   \n",
       "3    0.0         0.0  ...  1.030519e-07  1.244116e-11  2.646158e-16   \n",
       "4    0.0         0.0  ...  2.745041e-03  7.849176e-06  3.037458e-09   \n",
       "\n",
       "   event_date_5  event_date_6  event_date_7  event_date_8  event_date_9  \\\n",
       "0  8.635293e-08  1.011517e-04  1.603542e-02      0.344032      0.998914   \n",
       "1  2.279242e-06  1.133011e-03  7.622352e-02      0.693993      0.855129   \n",
       "2  4.086211e-12  4.216629e-08  5.888722e-05      0.011130      0.284686   \n",
       "3  1.549923e-11  1.228614e-07  1.318050e-04      0.019136      0.376009   \n",
       "4  1.590770e-13  3.304797e-14  8.397145e-10      0.000003      0.001344   \n",
       "\n",
       "   event_date_10  event_date_11  \n",
       "0       0.392526       0.020875  \n",
       "1       0.142600       0.003218  \n",
       "2       0.985494       0.461694  \n",
       "3       0.999879       0.359839  \n",
       "4       0.084637       0.721422  \n",
       "\n",
       "[5 rows x 1910 columns]"
      ]
     },
     "execution_count": 10,
     "metadata": {},
     "output_type": "execute_result"
    }
   ],
   "source": [
    "tickets_cleaned.head()"
   ]
  },
  {
   "cell_type": "code",
   "execution_count": 11,
   "metadata": {},
   "outputs": [],
   "source": [
    "tickets_cleaned_extra_copy = tickets_cleaned.copy()"
   ]
  },
  {
   "cell_type": "code",
   "execution_count": 12,
   "metadata": {},
   "outputs": [],
   "source": [
    "tickets_cleaned = tickets_cleaned.sample(frac= 0.05, replace= False, random_state= 1234)"
   ]
  },
  {
   "attachments": {},
   "cell_type": "markdown",
   "metadata": {},
   "source": [
    "### Splitting the data"
   ]
  },
  {
   "cell_type": "code",
   "execution_count": 13,
   "metadata": {},
   "outputs": [],
   "source": [
    "test = tickets_cleaned[(tickets_cleaned['event_name'] == 'CLT21LV') | tickets_cleaned['event_name'] == 'CLT22HOU']\n",
    "train = tickets_cleaned[(tickets_cleaned['event_name'] != 'CLT21LV') & tickets_cleaned['event_name'] != 'CLT22HOU']"
   ]
  },
  {
   "attachments": {},
   "cell_type": "markdown",
   "metadata": {},
   "source": [
    "- Must drop the uncodable data"
   ]
  },
  {
   "cell_type": "code",
   "execution_count": 14,
   "metadata": {},
   "outputs": [],
   "source": [
    "train = train.drop(labels = ['event_name', 'UniqueID', 'Unnamed: 0', 'SeatUniqueID'], axis= 1)\n",
    "test = test.drop(labels = ['event_name', 'UniqueID', 'Unnamed: 0', 'SeatUniqueID'], axis = 1)"
   ]
  },
  {
   "cell_type": "code",
   "execution_count": 15,
   "metadata": {},
   "outputs": [],
   "source": [
    "y_train = train[['isAttended']]\n",
    "y_test = test[['isAttended']]"
   ]
  },
  {
   "cell_type": "code",
   "execution_count": 16,
   "metadata": {},
   "outputs": [],
   "source": [
    "X_train = train.drop(labels= ['isAttended'], axis = 1)\n",
    "X_test = train.drop(labels = ['isAttended'], axis = 1)\n"
   ]
  },
  {
   "cell_type": "code",
   "execution_count": 17,
   "metadata": {},
   "outputs": [],
   "source": [
    "X_train_columns = X_train.columns\n",
    "X_test_columns = X_test.columns\n",
    "y_train_columns = y_train.columns\n",
    "y_test_columns = y_test.columns"
   ]
  },
  {
   "cell_type": "code",
   "execution_count": 18,
   "metadata": {},
   "outputs": [],
   "source": [
    "#X_train = X_train.to_numpy(dtype= 'float32')\n",
    "#X_test = X_test.to_numpy(dtype = 'float32')\n",
    "#y_train = y_train.to_numpy(dtype = 'float32')\n",
    "#y_test = y_test.to_numpy(dtype = 'float32')"
   ]
  },
  {
   "cell_type": "code",
   "execution_count": 19,
   "metadata": {},
   "outputs": [],
   "source": [
    "X_train = X_train.to_numpy()\n",
    "X_test = X_test.to_numpy()\n",
    "y_train = y_train.to_numpy()\n",
    "y_train = y_train.ravel()\n",
    "y_test = y_test.to_numpy()"
   ]
  },
  {
   "cell_type": "code",
   "execution_count": 20,
   "metadata": {},
   "outputs": [],
   "source": [
    "rf_model = RandomForestClassifier(n_estimators=50, max_features=\"auto\", random_state=123)"
   ]
  },
  {
   "cell_type": "code",
   "execution_count": 21,
   "metadata": {},
   "outputs": [
    {
     "data": {
      "text/plain": [
       "RandomForestClassifier(n_estimators=50, random_state=123)"
      ]
     },
     "execution_count": 21,
     "metadata": {},
     "output_type": "execute_result"
    }
   ],
   "source": [
    "rf_model.fit(X_train, y_train)"
   ]
  },
  {
   "cell_type": "code",
   "execution_count": 22,
   "metadata": {},
   "outputs": [],
   "source": [
    "y_pred = rf_model.predict(X_test)\n"
   ]
  },
  {
   "cell_type": "code",
   "execution_count": 23,
   "metadata": {},
   "outputs": [
    {
     "data": {
      "text/plain": [
       "array([1, 1, 1, ..., 1, 1, 1])"
      ]
     },
     "execution_count": 23,
     "metadata": {},
     "output_type": "execute_result"
    }
   ],
   "source": [
    "y_pred"
   ]
  }
 ],
 "metadata": {
  "kernelspec": {
   "display_name": "base",
   "language": "python",
   "name": "python3"
  },
  "language_info": {
   "codemirror_mode": {
    "name": "ipython",
    "version": 3
   },
   "file_extension": ".py",
   "mimetype": "text/x-python",
   "name": "python",
   "nbconvert_exporter": "python",
   "pygments_lexer": "ipython3",
   "version": "3.9.7 (default, Sep 16 2021, 08:50:36) \n[Clang 10.0.0 ]"
  },
  "orig_nbformat": 4,
  "vscode": {
   "interpreter": {
    "hash": "3edbd7b23b0fac25ed01096b34e5f59511cb659c0b1d4bb21fa4d1eb2f403c11"
   }
  }
 },
 "nbformat": 4,
 "nbformat_minor": 2
}
