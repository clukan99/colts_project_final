{
 "cells": [
  {
   "attachments": {},
   "cell_type": "markdown",
   "metadata": {},
   "source": [
    "# Predict the number of actual attendees of colts games based on a variety of factors\n",
    "# This includes ticket sales from the past 2 seasons. Predict which games will and will not be attended\n",
    "- Note, some of the lines of code may look inefficient because there is only so much memory on my computer and I have to find a different way"
   ]
  },
  {
   "cell_type": "code",
   "execution_count": 1,
   "metadata": {},
   "outputs": [],
   "source": [
    "import pandas as pd\n",
    "import numpy as np\n",
    "import seaborn as sns\n",
    "import matplotlib as plt\n",
    "import sklearn\n",
    "from datetime import date\n",
    "from datetime import datetime\n",
    "import math"
   ]
  },
  {
   "cell_type": "code",
   "execution_count": 2,
   "metadata": {},
   "outputs": [],
   "source": [
    "from sklearn.preprocessing import OneHotEncoder\n",
    "from sklearn.preprocessing import OrdinalEncoder\n",
    "from sklearn.preprocessing import LabelEncoder\n",
    "from sklearn.preprocessing import RobustScaler\n",
    "from sklearn.preprocessing import StandardScaler\n",
    "from sklego.preprocessing import RepeatingBasisFunction\n",
    "\n"
   ]
  },
  {
   "cell_type": "code",
   "execution_count": 3,
   "metadata": {},
   "outputs": [
    {
     "name": "stderr",
     "output_type": "stream",
     "text": [
      "/var/folders/mh/9fr225sj6bd0qgb1553s86dw0000gn/T/ipykernel_86611/3111216361.py:1: DtypeWarning: Columns (0,30) have mixed types. Specify dtype option on import or set low_memory=False.\n",
      "  tickets = pd.read_csv(\"../Cross Road Analytics Competition Dataset.csv\")\n"
     ]
    }
   ],
   "source": [
    "tickets = pd.read_csv(\"../Cross Road Analytics Competition Dataset.csv\")\n"
   ]
  },
  {
   "cell_type": "code",
   "execution_count": 4,
   "metadata": {},
   "outputs": [
    {
     "data": {
      "text/html": [
       "<div>\n",
       "<style scoped>\n",
       "    .dataframe tbody tr th:only-of-type {\n",
       "        vertical-align: middle;\n",
       "    }\n",
       "\n",
       "    .dataframe tbody tr th {\n",
       "        vertical-align: top;\n",
       "    }\n",
       "\n",
       "    .dataframe thead th {\n",
       "        text-align: right;\n",
       "    }\n",
       "</style>\n",
       "<table border=\"1\" class=\"dataframe\">\n",
       "  <thead>\n",
       "    <tr style=\"text-align: right;\">\n",
       "      <th></th>\n",
       "      <th>acct_id</th>\n",
       "      <th>acct_type_desc</th>\n",
       "      <th>event_name</th>\n",
       "      <th>event_date</th>\n",
       "      <th>plan_event_name</th>\n",
       "      <th>comp_name</th>\n",
       "      <th>section_name</th>\n",
       "      <th>row_name</th>\n",
       "      <th>SeatNum</th>\n",
       "      <th>price_code</th>\n",
       "      <th>...</th>\n",
       "      <th>SeatUniqueID</th>\n",
       "      <th>Season</th>\n",
       "      <th>ClubExpYear</th>\n",
       "      <th>Tenure</th>\n",
       "      <th>UniqueID</th>\n",
       "      <th>isAttended</th>\n",
       "      <th>Resold</th>\n",
       "      <th>ResalePrice</th>\n",
       "      <th>ResaleDate</th>\n",
       "      <th>isSTM</th>\n",
       "    </tr>\n",
       "  </thead>\n",
       "  <tbody>\n",
       "    <tr>\n",
       "      <th>0</th>\n",
       "      <td>117948790</td>\n",
       "      <td>Season</td>\n",
       "      <td>CLT21HOU</td>\n",
       "      <td>2021-10-17</td>\n",
       "      <td>21FS</td>\n",
       "      <td>Not Comp</td>\n",
       "      <td>101</td>\n",
       "      <td>10</td>\n",
       "      <td>1</td>\n",
       "      <td>FR</td>\n",
       "      <td>...</td>\n",
       "      <td>101-10-1</td>\n",
       "      <td>2021</td>\n",
       "      <td>NaN</td>\n",
       "      <td>25.0</td>\n",
       "      <td>CLT21HOU-101-10-1</td>\n",
       "      <td>Yes</td>\n",
       "      <td>NaN</td>\n",
       "      <td>NaN</td>\n",
       "      <td>NaN</td>\n",
       "      <td>NaN</td>\n",
       "    </tr>\n",
       "    <tr>\n",
       "      <th>1</th>\n",
       "      <td>126665090</td>\n",
       "      <td>Season</td>\n",
       "      <td>CLT21HOU</td>\n",
       "      <td>2021-10-17</td>\n",
       "      <td>21FS</td>\n",
       "      <td>Not Comp</td>\n",
       "      <td>101</td>\n",
       "      <td>10</td>\n",
       "      <td>10</td>\n",
       "      <td>FR</td>\n",
       "      <td>...</td>\n",
       "      <td>101-10-10</td>\n",
       "      <td>2021</td>\n",
       "      <td>NaN</td>\n",
       "      <td>20.0</td>\n",
       "      <td>CLT21HOU-101-10-10</td>\n",
       "      <td>No</td>\n",
       "      <td>NaN</td>\n",
       "      <td>NaN</td>\n",
       "      <td>NaN</td>\n",
       "      <td>NaN</td>\n",
       "    </tr>\n",
       "    <tr>\n",
       "      <th>2</th>\n",
       "      <td>126665090</td>\n",
       "      <td>Season</td>\n",
       "      <td>CLT21HOU</td>\n",
       "      <td>2021-10-17</td>\n",
       "      <td>21FS</td>\n",
       "      <td>Not Comp</td>\n",
       "      <td>101</td>\n",
       "      <td>10</td>\n",
       "      <td>11</td>\n",
       "      <td>FR</td>\n",
       "      <td>...</td>\n",
       "      <td>101-10-11</td>\n",
       "      <td>2021</td>\n",
       "      <td>NaN</td>\n",
       "      <td>20.0</td>\n",
       "      <td>CLT21HOU-101-10-11</td>\n",
       "      <td>No</td>\n",
       "      <td>NaN</td>\n",
       "      <td>NaN</td>\n",
       "      <td>NaN</td>\n",
       "      <td>NaN</td>\n",
       "    </tr>\n",
       "    <tr>\n",
       "      <th>3</th>\n",
       "      <td>1489599590</td>\n",
       "      <td>Season</td>\n",
       "      <td>CLT21HOU</td>\n",
       "      <td>2021-10-17</td>\n",
       "      <td>21FS</td>\n",
       "      <td>Not Comp</td>\n",
       "      <td>101</td>\n",
       "      <td>10</td>\n",
       "      <td>12</td>\n",
       "      <td>FR</td>\n",
       "      <td>...</td>\n",
       "      <td>101-10-12</td>\n",
       "      <td>2021</td>\n",
       "      <td>NaN</td>\n",
       "      <td>4.0</td>\n",
       "      <td>CLT21HOU-101-10-12</td>\n",
       "      <td>Yes</td>\n",
       "      <td>NaN</td>\n",
       "      <td>NaN</td>\n",
       "      <td>NaN</td>\n",
       "      <td>NaN</td>\n",
       "    </tr>\n",
       "    <tr>\n",
       "      <th>4</th>\n",
       "      <td>115101990</td>\n",
       "      <td>Season</td>\n",
       "      <td>CLT21HOU</td>\n",
       "      <td>2021-10-17</td>\n",
       "      <td>21FS</td>\n",
       "      <td>Not Comp</td>\n",
       "      <td>101</td>\n",
       "      <td>10</td>\n",
       "      <td>13</td>\n",
       "      <td>FR</td>\n",
       "      <td>...</td>\n",
       "      <td>101-10-13</td>\n",
       "      <td>2021</td>\n",
       "      <td>NaN</td>\n",
       "      <td>32.0</td>\n",
       "      <td>CLT21HOU-101-10-13</td>\n",
       "      <td>No</td>\n",
       "      <td>NaN</td>\n",
       "      <td>NaN</td>\n",
       "      <td>NaN</td>\n",
       "      <td>NaN</td>\n",
       "    </tr>\n",
       "  </tbody>\n",
       "</table>\n",
       "<p>5 rows × 34 columns</p>\n",
       "</div>"
      ],
      "text/plain": [
       "      acct_id acct_type_desc event_name  event_date plan_event_name comp_name  \\\n",
       "0   117948790         Season   CLT21HOU  2021-10-17            21FS  Not Comp   \n",
       "1   126665090         Season   CLT21HOU  2021-10-17            21FS  Not Comp   \n",
       "2   126665090         Season   CLT21HOU  2021-10-17            21FS  Not Comp   \n",
       "3  1489599590         Season   CLT21HOU  2021-10-17            21FS  Not Comp   \n",
       "4   115101990         Season   CLT21HOU  2021-10-17            21FS  Not Comp   \n",
       "\n",
       "   section_name row_name  SeatNum price_code  ... SeatUniqueID  Season  \\\n",
       "0           101       10        1         FR  ...     101-10-1    2021   \n",
       "1           101       10       10         FR  ...    101-10-10    2021   \n",
       "2           101       10       11         FR  ...    101-10-11    2021   \n",
       "3           101       10       12         FR  ...    101-10-12    2021   \n",
       "4           101       10       13         FR  ...    101-10-13    2021   \n",
       "\n",
       "  ClubExpYear Tenure            UniqueID isAttended  Resold  ResalePrice  \\\n",
       "0         NaN   25.0   CLT21HOU-101-10-1        Yes     NaN          NaN   \n",
       "1         NaN   20.0  CLT21HOU-101-10-10         No     NaN          NaN   \n",
       "2         NaN   20.0  CLT21HOU-101-10-11         No     NaN          NaN   \n",
       "3         NaN    4.0  CLT21HOU-101-10-12        Yes     NaN          NaN   \n",
       "4         NaN   32.0  CLT21HOU-101-10-13         No     NaN          NaN   \n",
       "\n",
       "  ResaleDate isSTM  \n",
       "0        NaN   NaN  \n",
       "1        NaN   NaN  \n",
       "2        NaN   NaN  \n",
       "3        NaN   NaN  \n",
       "4        NaN   NaN  \n",
       "\n",
       "[5 rows x 34 columns]"
      ]
     },
     "execution_count": 4,
     "metadata": {},
     "output_type": "execute_result"
    }
   ],
   "source": [
    "tickets.head()"
   ]
  },
  {
   "attachments": {},
   "cell_type": "markdown",
   "metadata": {},
   "source": [
    "### Must get the team name and split it apart; we do not need the entire column of event_name"
   ]
  },
  {
   "cell_type": "code",
   "execution_count": 4,
   "metadata": {},
   "outputs": [],
   "source": [
    "def extract_second(s):\n",
    "    if \"21\" in s:\n",
    "        return s.split(\"21\")[1]\n",
    "    elif \"22\" in s:\n",
    "        return s.split(\"22\")[1]\n",
    "    elif \"23\" in s:\n",
    "        return s.split(\"23\")[1]\n",
    "\n",
    "tickets[\"opponent\"] = tickets[\"event_name\"].apply(extract_second)"
   ]
  },
  {
   "attachments": {},
   "cell_type": "markdown",
   "metadata": {},
   "source": [
    "### Must encode the event date; This is done by using the radial basis function; we will have to re-add this data at the end"
   ]
  },
  {
   "cell_type": "code",
   "execution_count": 5,
   "metadata": {},
   "outputs": [
    {
     "name": "stderr",
     "output_type": "stream",
     "text": [
      "/var/folders/mh/9fr225sj6bd0qgb1553s86dw0000gn/T/ipykernel_13816/1549609834.py:7: SettingWithCopyWarning: \n",
      "A value is trying to be set on a copy of a slice from a DataFrame.\n",
      "Try using .loc[row_indexer,col_indexer] = value instead\n",
      "\n",
      "See the caveats in the documentation: https://pandas.pydata.org/pandas-docs/stable/user_guide/indexing.html#returning-a-view-versus-a-copy\n",
      "  tickets_dates['day_of_year'] = tickets_dates['event_date'].apply(get_the_day)\n"
     ]
    }
   ],
   "source": [
    "tickets_dates = tickets[['event_date']]\n",
    "\n",
    "def get_the_day(dateyear):\n",
    "    date = datetime.strptime(dateyear, \"%Y-%m-%d\")\n",
    "    return date.timetuple().tm_yday\n",
    "\n",
    "tickets_dates['day_of_year'] = tickets_dates['event_date'].apply(get_the_day)\n",
    "\n",
    "\n",
    "rbf = RepeatingBasisFunction(n_periods=12,\n",
    "                         \tcolumn=\"day_of_year\",\n",
    "                         \tinput_range=(1,365),\n",
    "                         \tremainder=\"drop\")\n",
    "\n",
    "\n",
    "rbf.fit(tickets_dates)\n",
    "tickets_dates_tranformed = pd.DataFrame(index=tickets_dates.event_date,\n",
    "               \tdata=rbf.transform(tickets_dates))\n",
    "\n",
    "#tickets_dates_tranformed['event_date'] = tickets_dates_tranformed.index\t\t"
   ]
  },
  {
   "cell_type": "code",
   "execution_count": 6,
   "metadata": {},
   "outputs": [
    {
     "data": {
      "image/png": "[encoded data removed]",
      "text/plain": [
       "<Figure size 1008x576 with 12 Axes>"
      ]
     },
     "metadata": {
      "needs_background": "light"
     },
     "output_type": "display_data"
    }
   ],
   "source": [
    "tickets_dates_tranformed.plot(subplots=True, figsize=(14, 8),\n",
    "     \tsharex=True, title=\"Radial Basis Functions\",\n",
    "     \tlegend=False);"
   ]
  },
  {
   "attachments": {},
   "cell_type": "markdown",
   "metadata": {},
   "source": [
    "### Merging the event date here"
   ]
  },
  {
   "cell_type": "code",
   "execution_count": 6,
   "metadata": {},
   "outputs": [],
   "source": [
    "#tickets = tickets.merge(tickets_dates_tranformed, on= 'event_date')\n",
    "\n",
    "tickets[[\"event_date_0\",\"event_date_1\",\"event_date_2\",\"event_date_3\",\"event_date_4\",\"event_date_5\",\"event_date_6\",\"event_date_7\",\"event_date_8\",\"event_date_9\",\"event_date_10\",\"event_date_11\"]] = tickets_dates_tranformed.to_numpy()"
   ]
  },
  {
   "cell_type": "code",
   "execution_count": null,
   "metadata": {},
   "outputs": [],
   "source": [
    "tickets.head()"
   ]
  },
  {
   "attachments": {},
   "cell_type": "markdown",
   "metadata": {},
   "source": [
    "### Must encode the add date\n",
    "- Some ticket were not added, therefore, must make a yes/no column to supplement this"
   ]
  },
  {
   "cell_type": "code",
   "execution_count": 7,
   "metadata": {},
   "outputs": [],
   "source": [
    "def ticket_added(ticket_date_add):\n",
    "    if (ticket_date_add == 'NaN'):\n",
    "        return \"No\"\n",
    "    else:\n",
    "        return \"Yes\"\n",
    "        \n",
    "tickets[\"ticket_added\"] = tickets[\"add_datetime\"].apply(ticket_added)"
   ]
  },
  {
   "attachments": {},
   "cell_type": "markdown",
   "metadata": {},
   "source": [
    "### Dropping labels"
   ]
  },
  {
   "cell_type": "code",
   "execution_count": 8,
   "metadata": {},
   "outputs": [],
   "source": [
    "tickets = tickets.drop(labels =['acct_id', 'Start Year', 'LastYear','event_date','ResalePrice','ResaleDate', 'add_datetime'], axis = 1)"
   ]
  },
  {
   "cell_type": "code",
   "execution_count": null,
   "metadata": {},
   "outputs": [],
   "source": [
    "tickets.head()"
   ]
  },
  {
   "cell_type": "code",
   "execution_count": 15,
   "metadata": {},
   "outputs": [
    {
     "data": {
      "text/plain": [
       "(1286916, 31)"
      ]
     },
     "execution_count": 15,
     "metadata": {},
     "output_type": "execute_result"
    }
   ],
   "source": [
    "tickets.shape"
   ]
  },
  {
   "cell_type": "code",
   "execution_count": 45,
   "metadata": {},
   "outputs": [
    {
     "data": {
      "text/plain": [
       "acct_type_desc       91418\n",
       "event_name               0\n",
       "plan_event_name     279172\n",
       "comp_name            80644\n",
       "section_name             0\n",
       "row_name                 0\n",
       "SeatNum                  0\n",
       "price_code               0\n",
       "PC1                      0\n",
       "Price                    0\n",
       "paid                154145\n",
       "class_name               0\n",
       "status                   0\n",
       "Sales_Source       1280704\n",
       "isHost                   0\n",
       "SeatType                 0\n",
       "TicketClass              0\n",
       "Term               1146445\n",
       "TicketType               0\n",
       "SeatUniqueID             0\n",
       "Season                   0\n",
       "ClubExpYear        1146325\n",
       "Tenure               91418\n",
       "UniqueID                 0\n",
       "isAttended               0\n",
       "Resold             1140868\n",
       "isSTM               900104\n",
       "opponent                 0\n",
       "event_date_0             0\n",
       "event_date_1             0\n",
       "event_date_2             0\n",
       "event_date_3             0\n",
       "event_date_4             0\n",
       "event_date_5             0\n",
       "event_date_6             0\n",
       "event_date_7             0\n",
       "event_date_8             0\n",
       "event_date_9             0\n",
       "event_date_10            0\n",
       "event_date_11            0\n",
       "ticket_added             0\n",
       "dtype: int64"
      ]
     },
     "execution_count": 45,
     "metadata": {},
     "output_type": "execute_result"
    }
   ],
   "source": [
    "tickets.isnull().sum()"
   ]
  },
  {
   "attachments": {},
   "cell_type": "markdown",
   "metadata": {},
   "source": [
    "### Deterimining which variables are categorical\n",
    "- Should seat/section/row numbers be categorical since this is technically a location and not a number."
   ]
  },
  {
   "cell_type": "code",
   "execution_count": 9,
   "metadata": {},
   "outputs": [
    {
     "name": "stdout",
     "output_type": "stream",
     "text": [
      "There are 20 categorical variables\n",
      "\n",
      "The categorical variables are :\n",
      "\n",
      " ['acct_type_desc', 'event_name', 'event_date', 'plan_event_name', 'comp_name', 'row_name', 'price_code', 'PC1', 'paid', 'add_datetime', 'class_name', 'status', 'SeatType', 'TicketClass', 'TicketType', 'SeatUniqueID', 'UniqueID', 'isAttended', 'Resold', 'ResaleDate']\n"
     ]
    }
   ],
   "source": [
    "categorical = [var for var in tickets.columns if tickets[var].dtype=='O']\n",
    "print('There are {} categorical variables\\n'.format(len(categorical)))\n",
    "print('The categorical variables are :\\n\\n', categorical)"
   ]
  },
  {
   "attachments": {},
   "cell_type": "markdown",
   "metadata": {},
   "source": [
    "- Getting which categorical data are null"
   ]
  },
  {
   "cell_type": "code",
   "execution_count": null,
   "metadata": {},
   "outputs": [],
   "source": [
    "tickets[categorical].isnull().sum()"
   ]
  },
  {
   "attachments": {},
   "cell_type": "markdown",
   "metadata": {},
   "source": [
    "- Checking the frequency of the categorical variables"
   ]
  },
  {
   "cell_type": "code",
   "execution_count": null,
   "metadata": {},
   "outputs": [],
   "source": [
    "categorical = [var for var in tickets.columns if tickets[var].dtype=='O']\n",
    "for var in categorical: \n",
    "    print(tickets[var].value_counts()/np.float(len(tickets)))"
   ]
  },
  {
   "attachments": {},
   "cell_type": "markdown",
   "metadata": {},
   "source": [
    "- Looking at the cardinality of the dataset"
   ]
  },
  {
   "cell_type": "code",
   "execution_count": 21,
   "metadata": {},
   "outputs": [
    {
     "name": "stdout",
     "output_type": "stream",
     "text": [
      "acct_type_desc  contains  31  labels\n",
      "event_name  contains  20  labels\n",
      "event_date  contains  20  labels\n",
      "plan_event_name  contains  8  labels\n",
      "comp_name  contains  23  labels\n",
      "row_name  contains  67  labels\n",
      "price_code  contains  1189  labels\n",
      "PC1  contains  31  labels\n",
      "paid  contains  4  labels\n",
      "add_datetime  contains  68992  labels\n",
      "class_name  contains  48  labels\n",
      "status  contains  4  labels\n",
      "SeatType  contains  2  labels\n",
      "TicketClass  contains  6  labels\n",
      "TicketType  contains  26  labels\n",
      "SeatUniqueID  contains  64346  labels\n",
      "UniqueID  contains  1286916  labels\n",
      "isAttended  contains  3  labels\n",
      "Resold  contains  4  labels\n",
      "ResaleDate  contains  20743  labels\n"
     ]
    }
   ],
   "source": [
    "for var in categorical:\n",
    "    print(var, ' contains ', len(tickets[var].unique()), ' labels')"
   ]
  },
  {
   "attachments": {},
   "cell_type": "markdown",
   "metadata": {},
   "source": [
    "### Interpolating the time series data\n",
    "- Note: Term = Start year - Last year\n",
    "    - This means its only necessary to interpolate the Term; Does term only apply to season ticket holders or people of that nature"
   ]
  },
  {
   "attachments": {},
   "cell_type": "markdown",
   "metadata": {},
   "source": [
    "### To encode or not to encode\n",
    "- acct_type: Categorical\n",
    "- event name: Should we even keep this??? What if the game is new... this would be making a new categorical variable. What are we predicting off of? If all of the variables remain the same, it would be wise to only encode the team name who they are playing. \n",
    "- event_date: Time-series data (does not have seconds). Possible eliminate the year; time in month may be more important\n",
    "- plan_event_name: Categorical\n",
    "- comp_name: Categorical\n",
    "- LOCATION\n",
    "    - section: Categorical\n",
    "    - row_name: Categorical or Numerical? Numerical since this is similar to a rank?\n",
    "    - SeatNum: Categorical or Numerical? Numerical since this is similar to a rank?\n",
    "- price_code: Categorical\n",
    "- PC1: Categorical\n",
    "- Price: Numerical\n",
    "- Paid: Categorical\n",
    "- add_datetime: Time-series data (does not have seconds). There is some missing data here. May have to do time series interpolation\n",
    "- class_name: Categorical\n",
    "- status: Categorical\n",
    "- Sales_Source: encode as true or false\n",
    "- isHost: Categorical; Already encoded\n",
    "- SeatType: Categorical (only 2 classes)\n",
    "- TicketClass: Categorical\n",
    "- Term: Code as 0 if Na... this will be ordinal data\n",
    "- TicketType: Categorical\n",
    "- SeatUniqueID: Categorical or Numerical? Its a unique one\n",
    "- Season: Ordinal; But would we need to include this because we are predicting future data. Next season, there would be nothing to predict off of in this class. \n",
    "- ClubExpYear: Includes NA, therefore must encode this as ordinal\n",
    "- Tenure: Has missing data and 0's. What should we encode NA as? Should be able to encode this as ordinal data\n",
    "- UniqueID: Has the event_name + SeatUnique\n",
    "- isAttended: Categorical (yes or no)\n",
    "- Resold: Has NA, 1.0, '1' and 'Yes'; we must encode the 1's as 1 and NA as 0\n",
    "- ResaleDate: Delete this column. Likely does not matter. \n",
    "- isSTM: 1 is 'yes', nan is 'no'; Must categorically encode this\n",
    "\n"
   ]
  },
  {
   "attachments": {},
   "cell_type": "markdown",
   "metadata": {},
   "source": [
    "###  Encoding what can be encoded as categorical...\n",
    "- acct_type\n",
    "- plan_event_name\n",
    "- comp_name\n",
    "- price_code\n",
    "- Paid\n",
    "- class_name\n",
    "- status\n",
    "- TicketClass\n",
    "- TicketType\n",
    "- Sales_Source\n",
    "- SeatType\n",
    "- IsAttended (must be label encoded)\n",
    "- Resold\n",
    "- isSTM"
   ]
  },
  {
   "attachments": {},
   "cell_type": "markdown",
   "metadata": {},
   "source": [
    "#### Label encoding isAttended"
   ]
  },
  {
   "cell_type": "code",
   "execution_count": 9,
   "metadata": {},
   "outputs": [
    {
     "name": "stderr",
     "output_type": "stream",
     "text": [
      "/Users/caiden/opt/anaconda3/lib/python3.9/site-packages/sklearn/utils/validation.py:63: DataConversionWarning: A column-vector y was passed when a 1d array was expected. Please change the shape of y to (n_samples, ), for example using ravel().\n",
      "  return f(*args, **kwargs)\n"
     ]
    }
   ],
   "source": [
    "label_enc = LabelEncoder()\n",
    "isAttended_label = tickets[['isAttended']]\n",
    "label_enc.fit(isAttended_label)\n",
    "tickets['isAttended'] = label_enc.transform(isAttended_label)"
   ]
  },
  {
   "attachments": {},
   "cell_type": "markdown",
   "metadata": {},
   "source": [
    "#### Adjusting data that has Na etc..."
   ]
  },
  {
   "cell_type": "code",
   "execution_count": 10,
   "metadata": {},
   "outputs": [],
   "source": [
    "tickets[['Resold', 'isSTM','Sales_Source','Term','Tenure']] = tickets[['Resold', 'isSTM','Sales_Source','Term','Tenure']].replace(np.nan,0)"
   ]
  },
  {
   "cell_type": "code",
   "execution_count": 11,
   "metadata": {},
   "outputs": [],
   "source": [
    "tickets[['Resold']] =  tickets[['Resold']].replace('Yes', 1)\n",
    "tickets[['Resold']] =  tickets[['Resold']].replace('1', 1)\n",
    "tickets[['paid']] = tickets[['paid']].replace(np.nan, 'paid_unknown')\n",
    "tickets[['acct_type_desc']] = tickets[['acct_type_desc']].replace(np.nan, 'acct_desc_unknown')\n",
    "tickets[['comp_name']] = tickets[['comp_name']].replace(np.nan, 'comp_name_unknown')\n",
    "tickets[['plan_event_name']] = tickets[['plan_event_name']].replace(np.nan, 'plan_event_name_unknown')\n",
    "tickets[['ClubExpYear']] = tickets[['ClubExpYear']].replace(np.nan, 'exp_year_unknown')\n",
    "tickets[[\"Season\"]] = tickets[['Season']].replace(2021, \"season_2021\")\n",
    "tickets[[\"Season\"]] = tickets[['Season']].replace(2022, \"season_2022\")"
   ]
  },
  {
   "cell_type": "code",
   "execution_count": 12,
   "metadata": {},
   "outputs": [
    {
     "data": {
      "text/plain": [
       "acct_type_desc     0\n",
       "event_name         0\n",
       "plan_event_name    0\n",
       "comp_name          0\n",
       "section_name       0\n",
       "row_name           0\n",
       "SeatNum            0\n",
       "price_code         0\n",
       "PC1                0\n",
       "Price              0\n",
       "paid               0\n",
       "class_name         0\n",
       "status             0\n",
       "Sales_Source       0\n",
       "isHost             0\n",
       "SeatType           0\n",
       "TicketClass        0\n",
       "Term               0\n",
       "TicketType         0\n",
       "SeatUniqueID       0\n",
       "Season             0\n",
       "ClubExpYear        0\n",
       "Tenure             0\n",
       "UniqueID           0\n",
       "isAttended         0\n",
       "Resold             0\n",
       "isSTM              0\n",
       "opponent           0\n",
       "event_date_0       0\n",
       "event_date_1       0\n",
       "event_date_2       0\n",
       "event_date_3       0\n",
       "event_date_4       0\n",
       "event_date_5       0\n",
       "event_date_6       0\n",
       "event_date_7       0\n",
       "event_date_8       0\n",
       "event_date_9       0\n",
       "event_date_10      0\n",
       "event_date_11      0\n",
       "ticket_added       0\n",
       "dtype: int64"
      ]
     },
     "execution_count": 12,
     "metadata": {},
     "output_type": "execute_result"
    }
   ],
   "source": [
    "tickets.isnull().sum()"
   ]
  },
  {
   "attachments": {},
   "cell_type": "markdown",
   "metadata": {},
   "source": [
    "#### Getting the dummiess for the rest"
   ]
  },
  {
   "cell_type": "code",
   "execution_count": 13,
   "metadata": {},
   "outputs": [],
   "source": [
    "categorical_encoding_list = ['acct_type_desc','plan_event_name','comp_name','price_code','paid','class_name','status','TicketClass','TicketType','SeatType', 'Sales_Source','opponent' ,'section_name', 'row_name','SeatNum', 'ticket_added', 'ClubExpYear', 'Season', 'PC1']\n",
    "categorical_one_zero = ['isHost','isSTM','Resold']\n"
   ]
  },
  {
   "cell_type": "code",
   "execution_count": 14,
   "metadata": {},
   "outputs": [],
   "source": [
    "tickets[categorical_encoding_list] = tickets[categorical_encoding_list].astype(str)"
   ]
  },
  {
   "cell_type": "code",
   "execution_count": 15,
   "metadata": {},
   "outputs": [],
   "source": [
    "encoder = OneHotEncoder(sparse=  False)\n",
    "encoder.fit(tickets[categorical_encoding_list])\n",
    "one_hot_encoded_categorical_np = encoder.transform(tickets[categorical_encoding_list])\n",
    "\n",
    "out = np.concatenate(encoder.categories_).ravel().tolist()\n",
    "one_hot_encoded_categorical_pd = pd.DataFrame(one_hot_encoded_categorical_np, columns = out)"
   ]
  },
  {
   "cell_type": "code",
   "execution_count": 16,
   "metadata": {},
   "outputs": [],
   "source": [
    "one_hot_encoded_categorical_pd[categorical_one_zero] = tickets[categorical_one_zero]"
   ]
  },
  {
   "cell_type": "code",
   "execution_count": 17,
   "metadata": {},
   "outputs": [],
   "source": [
    "tickets = tickets.drop(labels =categorical_encoding_list, axis = 1)\n",
    "tickets = tickets.drop(labels =categorical_one_zero, axis = 1)"
   ]
  },
  {
   "cell_type": "code",
   "execution_count": 20,
   "metadata": {},
   "outputs": [
    {
     "data": {
      "text/html": [
       "<div>\n",
       "<style scoped>\n",
       "    .dataframe tbody tr th:only-of-type {\n",
       "        vertical-align: middle;\n",
       "    }\n",
       "\n",
       "    .dataframe tbody tr th {\n",
       "        vertical-align: top;\n",
       "    }\n",
       "\n",
       "    .dataframe thead th {\n",
       "        text-align: right;\n",
       "    }\n",
       "</style>\n",
       "<table border=\"1\" class=\"dataframe\">\n",
       "  <thead>\n",
       "    <tr style=\"text-align: right;\">\n",
       "      <th></th>\n",
       "      <th>event_name</th>\n",
       "      <th>Price</th>\n",
       "      <th>Term</th>\n",
       "      <th>SeatUniqueID</th>\n",
       "      <th>Tenure</th>\n",
       "      <th>UniqueID</th>\n",
       "      <th>isAttended</th>\n",
       "      <th>event_date_0</th>\n",
       "      <th>event_date_1</th>\n",
       "      <th>event_date_2</th>\n",
       "      <th>event_date_3</th>\n",
       "      <th>event_date_4</th>\n",
       "      <th>event_date_5</th>\n",
       "      <th>event_date_6</th>\n",
       "      <th>event_date_7</th>\n",
       "      <th>event_date_8</th>\n",
       "      <th>event_date_9</th>\n",
       "      <th>event_date_10</th>\n",
       "      <th>event_date_11</th>\n",
       "    </tr>\n",
       "  </thead>\n",
       "  <tbody>\n",
       "    <tr>\n",
       "      <th>0</th>\n",
       "      <td>CLT21HOU</td>\n",
       "      <td>111.0</td>\n",
       "      <td>0.0</td>\n",
       "      <td>101-10-1</td>\n",
       "      <td>25.0</td>\n",
       "      <td>CLT21HOU-101-10-1</td>\n",
       "      <td>2</td>\n",
       "      <td>0.002213</td>\n",
       "      <td>0.000006</td>\n",
       "      <td>2.053948e-09</td>\n",
       "      <td>9.851605e-14</td>\n",
       "      <td>5.382962e-14</td>\n",
       "      <td>1.252646e-09</td>\n",
       "      <td>0.000004</td>\n",
       "      <td>0.001681</td>\n",
       "      <td>0.096988</td>\n",
       "      <td>0.757125</td>\n",
       "      <td>0.799889</td>\n",
       "      <td>0.114368</td>\n",
       "    </tr>\n",
       "    <tr>\n",
       "      <th>1</th>\n",
       "      <td>CLT21HOU</td>\n",
       "      <td>111.0</td>\n",
       "      <td>0.0</td>\n",
       "      <td>101-10-10</td>\n",
       "      <td>20.0</td>\n",
       "      <td>CLT21HOU-101-10-10</td>\n",
       "      <td>1</td>\n",
       "      <td>0.002213</td>\n",
       "      <td>0.000006</td>\n",
       "      <td>2.053948e-09</td>\n",
       "      <td>9.851605e-14</td>\n",
       "      <td>5.382962e-14</td>\n",
       "      <td>1.252646e-09</td>\n",
       "      <td>0.000004</td>\n",
       "      <td>0.001681</td>\n",
       "      <td>0.096988</td>\n",
       "      <td>0.757125</td>\n",
       "      <td>0.799889</td>\n",
       "      <td>0.114368</td>\n",
       "    </tr>\n",
       "    <tr>\n",
       "      <th>2</th>\n",
       "      <td>CLT21HOU</td>\n",
       "      <td>111.0</td>\n",
       "      <td>0.0</td>\n",
       "      <td>101-10-11</td>\n",
       "      <td>20.0</td>\n",
       "      <td>CLT21HOU-101-10-11</td>\n",
       "      <td>1</td>\n",
       "      <td>0.002213</td>\n",
       "      <td>0.000006</td>\n",
       "      <td>2.053948e-09</td>\n",
       "      <td>9.851605e-14</td>\n",
       "      <td>5.382962e-14</td>\n",
       "      <td>1.252646e-09</td>\n",
       "      <td>0.000004</td>\n",
       "      <td>0.001681</td>\n",
       "      <td>0.096988</td>\n",
       "      <td>0.757125</td>\n",
       "      <td>0.799889</td>\n",
       "      <td>0.114368</td>\n",
       "    </tr>\n",
       "    <tr>\n",
       "      <th>3</th>\n",
       "      <td>CLT21HOU</td>\n",
       "      <td>111.0</td>\n",
       "      <td>0.0</td>\n",
       "      <td>101-10-12</td>\n",
       "      <td>4.0</td>\n",
       "      <td>CLT21HOU-101-10-12</td>\n",
       "      <td>2</td>\n",
       "      <td>0.002213</td>\n",
       "      <td>0.000006</td>\n",
       "      <td>2.053948e-09</td>\n",
       "      <td>9.851605e-14</td>\n",
       "      <td>5.382962e-14</td>\n",
       "      <td>1.252646e-09</td>\n",
       "      <td>0.000004</td>\n",
       "      <td>0.001681</td>\n",
       "      <td>0.096988</td>\n",
       "      <td>0.757125</td>\n",
       "      <td>0.799889</td>\n",
       "      <td>0.114368</td>\n",
       "    </tr>\n",
       "    <tr>\n",
       "      <th>4</th>\n",
       "      <td>CLT21HOU</td>\n",
       "      <td>111.0</td>\n",
       "      <td>0.0</td>\n",
       "      <td>101-10-13</td>\n",
       "      <td>32.0</td>\n",
       "      <td>CLT21HOU-101-10-13</td>\n",
       "      <td>1</td>\n",
       "      <td>0.002213</td>\n",
       "      <td>0.000006</td>\n",
       "      <td>2.053948e-09</td>\n",
       "      <td>9.851605e-14</td>\n",
       "      <td>5.382962e-14</td>\n",
       "      <td>1.252646e-09</td>\n",
       "      <td>0.000004</td>\n",
       "      <td>0.001681</td>\n",
       "      <td>0.096988</td>\n",
       "      <td>0.757125</td>\n",
       "      <td>0.799889</td>\n",
       "      <td>0.114368</td>\n",
       "    </tr>\n",
       "  </tbody>\n",
       "</table>\n",
       "</div>"
      ],
      "text/plain": [
       "  event_name  Price  Term SeatUniqueID  Tenure            UniqueID  \\\n",
       "0   CLT21HOU  111.0   0.0     101-10-1    25.0   CLT21HOU-101-10-1   \n",
       "1   CLT21HOU  111.0   0.0    101-10-10    20.0  CLT21HOU-101-10-10   \n",
       "2   CLT21HOU  111.0   0.0    101-10-11    20.0  CLT21HOU-101-10-11   \n",
       "3   CLT21HOU  111.0   0.0    101-10-12     4.0  CLT21HOU-101-10-12   \n",
       "4   CLT21HOU  111.0   0.0    101-10-13    32.0  CLT21HOU-101-10-13   \n",
       "\n",
       "   isAttended  event_date_0  event_date_1  event_date_2  event_date_3  \\\n",
       "0           2      0.002213      0.000006  2.053948e-09  9.851605e-14   \n",
       "1           1      0.002213      0.000006  2.053948e-09  9.851605e-14   \n",
       "2           1      0.002213      0.000006  2.053948e-09  9.851605e-14   \n",
       "3           2      0.002213      0.000006  2.053948e-09  9.851605e-14   \n",
       "4           1      0.002213      0.000006  2.053948e-09  9.851605e-14   \n",
       "\n",
       "   event_date_4  event_date_5  event_date_6  event_date_7  event_date_8  \\\n",
       "0  5.382962e-14  1.252646e-09      0.000004      0.001681      0.096988   \n",
       "1  5.382962e-14  1.252646e-09      0.000004      0.001681      0.096988   \n",
       "2  5.382962e-14  1.252646e-09      0.000004      0.001681      0.096988   \n",
       "3  5.382962e-14  1.252646e-09      0.000004      0.001681      0.096988   \n",
       "4  5.382962e-14  1.252646e-09      0.000004      0.001681      0.096988   \n",
       "\n",
       "   event_date_9  event_date_10  event_date_11  \n",
       "0      0.757125       0.799889       0.114368  \n",
       "1      0.757125       0.799889       0.114368  \n",
       "2      0.757125       0.799889       0.114368  \n",
       "3      0.757125       0.799889       0.114368  \n",
       "4      0.757125       0.799889       0.114368  "
      ]
     },
     "execution_count": 20,
     "metadata": {},
     "output_type": "execute_result"
    }
   ],
   "source": [
    "tickets.head()"
   ]
  },
  {
   "cell_type": "code",
   "execution_count": 15,
   "metadata": {},
   "outputs": [],
   "source": [
    "#undo_onehot = encoder.inverse_transform(one_hot_encoded_categorical_np)\n",
    "#undo_onehot = pd.DataFrame(undo_onehot, columns = out)"
   ]
  },
  {
   "attachments": {},
   "cell_type": "markdown",
   "metadata": {},
   "source": [
    "###  Encoding what can be encoded as ordinal...\n",
    "- Term\n",
    "    - Since in order, do not have to encode"
   ]
  },
  {
   "attachments": {},
   "cell_type": "markdown",
   "metadata": {},
   "source": [
    "###  Encoding what can be encoded as numerical...\n",
    "- Price\n",
    "    - We will inclide all prices. We will not eliminate outliers due to varying ticket prices\n",
    "    - Must (briefly) make the train and test sets to ensure that the new data is scaled on old data"
   ]
  },
  {
   "cell_type": "code",
   "execution_count": 18,
   "metadata": {},
   "outputs": [],
   "source": [
    "price_scaler = StandardScaler()\n",
    "price_scaler.fit(tickets[['Price']])\n",
    "tickets['Price'] = price_scaler.transform(tickets[['Price']])"
   ]
  },
  {
   "cell_type": "code",
   "execution_count": 19,
   "metadata": {},
   "outputs": [],
   "source": [
    "tickets_bare = tickets.copy()"
   ]
  },
  {
   "cell_type": "code",
   "execution_count": 20,
   "metadata": {},
   "outputs": [],
   "source": [
    "tickets_cleaned = one_hot_encoded_categorical_pd.copy()\n",
    "tickets_cleaned[tickets_bare.columns] = tickets_bare"
   ]
  },
  {
   "attachments": {},
   "cell_type": "markdown",
   "metadata": {},
   "source": [
    "### Getting each of the games partially, then putting them together to do a smaller test"
   ]
  },
  {
   "cell_type": "code",
   "execution_count": null,
   "metadata": {},
   "outputs": [],
   "source": [
    "tickets_bare_partial = tickets_bare.sample(frac = 0.05, replace = False ,random_state= 1234)\n",
    "tickets_cleaned_partial = tickets_cleaned.sample(frac = 0.05,replace = False ,random_state= 1234)"
   ]
  },
  {
   "cell_type": "code",
   "execution_count": null,
   "metadata": {},
   "outputs": [],
   "source": [
    "tickets_bare_partial.to_csv(\"../ticket_bare_partial.csv\")\n",
    "tickets_cleaned_partial.to_csv(\"../ticket_cleaned_partial.csv\")"
   ]
  },
  {
   "cell_type": "code",
   "execution_count": 25,
   "metadata": {},
   "outputs": [],
   "source": [
    "#tickets_bare.to_csv(\"../tickets_base.csv\")"
   ]
  },
  {
   "cell_type": "code",
   "execution_count": null,
   "metadata": {},
   "outputs": [],
   "source": [
    "#tickets_cleaned.to_csv(\"../tickets_cleaned_basic.csv\")"
   ]
  },
  {
   "cell_type": "code",
   "execution_count": null,
   "metadata": {},
   "outputs": [],
   "source": [
    "#tickets_train = tickets[(tickets['event_name'] != 'CLT22HOU') & (tickets['event_name'] != 'CLT21LV')]\n",
    "#tickets_test = tickets[(tickets['event_name'] == 'CLT22HOU') | (tickets['event_name'] == 'CLT21LV')]\n",
    "#tickets = tickets.drop(labels=['SeatUniqueID', 'event_name'])"
   ]
  },
  {
   "attachments": {},
   "cell_type": "markdown",
   "metadata": {},
   "source": []
  },
  {
   "cell_type": "markdown",
   "metadata": {},
   "source": []
  },
  {
   "attachments": {},
   "cell_type": "markdown",
   "metadata": {},
   "source": [
    "# Disregard this code"
   ]
  },
  {
   "cell_type": "code",
   "execution_count": 16,
   "metadata": {},
   "outputs": [
    {
     "data": {
      "text/plain": [
       "array([0.0000e+00, 1.0431e+04, 9.4900e+03, 9.4540e+03, 1.0432e+04,\n",
       "       5.7780e+03, 1.0430e+04, 1.0450e+04, 1.0428e+04, 1.0433e+04,\n",
       "       1.0444e+04, 5.4830e+03, 1.0449e+04, 5.9430e+03, 1.0437e+04,\n",
       "       4.4450e+03, 1.0434e+04, 8.6670e+03, 1.0383e+04, 1.0426e+04,\n",
       "       4.2420e+03, 1.0470e+04, 4.1530e+03, 4.3600e+03, 5.7840e+03,\n",
       "       1.0446e+04, 1.0447e+04, 1.0436e+04, 1.0440e+04, 1.0454e+04,\n",
       "       1.0455e+04, 5.3590e+03, 1.0142e+04, 1.0468e+04, 1.0439e+04,\n",
       "       1.0438e+04, 1.0445e+04, 1.0453e+04, 1.0451e+04, 4.9580e+03,\n",
       "       1.0435e+04, 4.3260e+03, 1.0441e+04, 1.0452e+04, 4.4060e+03,\n",
       "       9.0000e+00, 1.0376e+04, 1.0475e+04, 1.0472e+04, 4.3490e+03,\n",
       "       1.0474e+04, 1.0479e+04, 1.0478e+04, 1.0580e+04, 1.0473e+04,\n",
       "       1.0476e+04, 1.0471e+04, 1.0482e+04, 1.0480e+04, 1.0481e+04,\n",
       "       1.0508e+04, 1.0483e+04, 1.0509e+04, 3.7220e+03, 1.0477e+04,\n",
       "       6.6500e+02, 1.0507e+04, 1.0191e+04, 4.6160e+03, 9.3740e+03,\n",
       "       3.5290e+03, 1.0589e+04, 1.0484e+04, 2.7590e+03, 1.0501e+04,\n",
       "       1.0506e+04, 1.0386e+04, 1.0498e+04, 4.7270e+03, 3.7980e+03,\n",
       "       1.0511e+04, 1.0505e+04, 1.0604e+04, 4.8460e+03, 3.0380e+03,\n",
       "       1.0602e+04, 3.5520e+03, 1.0587e+04, 1.0489e+04, 9.3000e+03,\n",
       "       1.0599e+04, 1.0605e+04, 1.0488e+04, 1.0503e+04, 1.0594e+04,\n",
       "       1.0597e+04, 1.0590e+04, 1.0598e+04, 7.4660e+03, 1.0487e+04,\n",
       "       1.0572e+04, 1.0490e+04, 1.0496e+04, 1.0600e+04, 2.7770e+03,\n",
       "       1.0197e+04, 1.0510e+04, 4.3220e+03, 1.0502e+04, 1.0584e+04,\n",
       "       4.9230e+03, 1.0581e+04, 1.0491e+04, 1.0499e+04, 1.0591e+04,\n",
       "       1.0586e+04, 1.0592e+04, 1.0593e+04, 4.2560e+03, 1.0567e+04,\n",
       "       1.0492e+04, 9.0730e+03, 1.0494e+04, 1.0596e+04])"
      ]
     },
     "execution_count": 16,
     "metadata": {},
     "output_type": "execute_result"
    }
   ],
   "source": [
    "tickets.Sales_Source.unique()"
   ]
  },
  {
   "cell_type": "code",
   "execution_count": 36,
   "metadata": {},
   "outputs": [
    {
     "data": {
      "text/plain": [
       "array([101, 102, 103, 105, 108, 109, 110, 111, 112, 113, 114, 115, 116,\n",
       "       117, 118, 121, 124, 125, 126, 127, 128, 129, 132, 135, 136, 137,\n",
       "       138, 139, 140, 141, 142, 143, 144, 145, 148, 151, 152, 153, 204,\n",
       "       205, 206, 208, 209, 210, 211, 212, 213, 214, 215, 216, 217, 218,\n",
       "       220, 221, 222, 223, 224, 225, 227, 228, 229, 230, 231, 232, 233,\n",
       "       235, 236, 237, 238, 239, 240, 241, 242, 243, 244, 245, 247, 248,\n",
       "       249, 303, 304, 306, 307, 308, 309, 310, 311, 312, 313, 314, 315,\n",
       "       316, 317, 318, 319, 320, 322, 323, 324, 325, 326, 327, 328, 329,\n",
       "       330, 331, 333, 334, 335, 336, 337, 338, 339, 340, 341, 342, 343,\n",
       "       344, 345, 346, 347, 349, 350, 401, 402, 403, 404, 406, 407, 408,\n",
       "       409, 410, 411, 412, 413, 414, 415, 416, 417, 418, 419, 420, 422,\n",
       "       423, 424, 425, 427, 428, 429, 430, 431, 433, 434, 435, 436, 437,\n",
       "       438, 439, 440, 441, 442, 443, 444, 445, 446, 447, 449, 450, 451,\n",
       "       452, 453, 504, 506, 507, 508, 509, 510, 511, 512, 513, 514, 515,\n",
       "       516, 517, 518, 519, 520, 522, 524, 525, 526, 527, 528, 529, 531,\n",
       "       533, 534, 535, 536, 537, 538, 539, 540, 541, 542, 543, 544, 545,\n",
       "       546, 547, 549, 604, 605, 606, 607, 608, 609, 610, 611, 612, 613,\n",
       "       614, 615, 616, 617, 618, 619, 624, 625, 626, 627, 628, 629, 631,\n",
       "       632, 633, 634, 635, 636, 637, 638, 639, 640, 641, 642, 643, 644,\n",
       "       645, 646])"
      ]
     },
     "execution_count": 36,
     "metadata": {},
     "output_type": "execute_result"
    }
   ],
   "source": [
    "tickets.section_name.unique()"
   ]
  },
  {
   "cell_type": "code",
   "execution_count": 33,
   "metadata": {},
   "outputs": [
    {
     "data": {
      "text/plain": [
       "array([0])"
      ]
     },
     "execution_count": 33,
     "metadata": {},
     "output_type": "execute_result"
    }
   ],
   "source": [
    "tickets[tickets['event_name'] == 'CLT22HOU'].isAttended.unique()\n",
    "tickets[tickets['event_name'] == 'CLT21LV'].isAttended.unique()\n"
   ]
  },
  {
   "cell_type": "code",
   "execution_count": 16,
   "metadata": {},
   "outputs": [
    {
     "data": {
      "text/plain": [
       "array([['Season', '21FS', 'Not Comp', ..., 0.0, 0.0, 0.0],\n",
       "       ['Season', '21FS', 'Not Comp', ..., 0.0, 0.0, 0.0],\n",
       "       ['Season', '21FS', 'Not Comp', ..., 0.0, 0.0, 0.0],\n",
       "       ...,\n",
       "       ['Sponsor', '22FS8', 'Not Comp', ..., 0.0, 0.0, 0.0],\n",
       "       ['Sponsor', '22FS8', 'Not Comp', ..., 0.0, 0.0, 0.0],\n",
       "       ['Sponsor', '22FS8', 'Not Comp', ..., 0.0, 0.0, 0.0]], dtype=object)"
      ]
     },
     "execution_count": 16,
     "metadata": {},
     "output_type": "execute_result"
    }
   ],
   "source": [
    "undo_onehot"
   ]
  },
  {
   "cell_type": "code",
   "execution_count": 40,
   "metadata": {},
   "outputs": [],
   "source": [
    "example = tickets['event_name'].str.split(pat= \"CLT\", expand=True)\n"
   ]
  },
  {
   "cell_type": "code",
   "execution_count": null,
   "metadata": {},
   "outputs": [],
   "source": [
    "def extract_second(s):\n",
    "    if \"21\" in s:\n",
    "        return s.split(\"21\")[1]\n",
    "    elif \"22\" in s:\n",
    "        return s.split(\"22\")[1]\n",
    "\n",
    "tickets[\"result\"] = tickets[\"string\"].apply(extract_second)"
   ]
  },
  {
   "cell_type": "code",
   "execution_count": 41,
   "metadata": {},
   "outputs": [
    {
     "ename": "ValueError",
     "evalue": "Columns must be same length as key",
     "output_type": "error",
     "traceback": [
      "\u001b[0;31m---------------------------------------------------------------------------\u001b[0m",
      "\u001b[0;31mValueError\u001b[0m                                Traceback (most recent call last)",
      "\u001b[0;32m/var/folders/mh/9fr225sj6bd0qgb1553s86dw0000gn/T/ipykernel_17646/1760938262.py\u001b[0m in \u001b[0;36m<module>\u001b[0;34m\u001b[0m\n\u001b[0;32m----> 1\u001b[0;31m \u001b[0mexample\u001b[0m\u001b[0;34m[\u001b[0m\u001b[0;36m1\u001b[0m\u001b[0;34m]\u001b[0m \u001b[0;34m=\u001b[0m \u001b[0mexample\u001b[0m\u001b[0;34m[\u001b[0m\u001b[0;36m1\u001b[0m\u001b[0;34m]\u001b[0m\u001b[0;34m.\u001b[0m\u001b[0mstr\u001b[0m\u001b[0;34m.\u001b[0m\u001b[0msplit\u001b[0m\u001b[0;34m(\u001b[0m\u001b[0mpat\u001b[0m \u001b[0;34m=\u001b[0m \u001b[0;34m'21'\u001b[0m\u001b[0;34m,\u001b[0m \u001b[0mexpand\u001b[0m\u001b[0;34m=\u001b[0m \u001b[0;32mTrue\u001b[0m\u001b[0;34m)\u001b[0m\u001b[0;34m\u001b[0m\u001b[0;34m\u001b[0m\u001b[0m\n\u001b[0m",
      "\u001b[0;32m~/opt/anaconda3/lib/python3.9/site-packages/pandas/core/frame.py\u001b[0m in \u001b[0;36m__setitem__\u001b[0;34m(self, key, value)\u001b[0m\n\u001b[1;32m   3643\u001b[0m             \u001b[0mself\u001b[0m\u001b[0;34m.\u001b[0m\u001b[0m_setitem_array\u001b[0m\u001b[0;34m(\u001b[0m\u001b[0mkey\u001b[0m\u001b[0;34m,\u001b[0m \u001b[0mvalue\u001b[0m\u001b[0;34m)\u001b[0m\u001b[0;34m\u001b[0m\u001b[0;34m\u001b[0m\u001b[0m\n\u001b[1;32m   3644\u001b[0m         \u001b[0;32melif\u001b[0m \u001b[0misinstance\u001b[0m\u001b[0;34m(\u001b[0m\u001b[0mvalue\u001b[0m\u001b[0;34m,\u001b[0m \u001b[0mDataFrame\u001b[0m\u001b[0;34m)\u001b[0m\u001b[0;34m:\u001b[0m\u001b[0;34m\u001b[0m\u001b[0;34m\u001b[0m\u001b[0m\n\u001b[0;32m-> 3645\u001b[0;31m             \u001b[0mself\u001b[0m\u001b[0;34m.\u001b[0m\u001b[0m_set_item_frame_value\u001b[0m\u001b[0;34m(\u001b[0m\u001b[0mkey\u001b[0m\u001b[0;34m,\u001b[0m \u001b[0mvalue\u001b[0m\u001b[0;34m)\u001b[0m\u001b[0;34m\u001b[0m\u001b[0;34m\u001b[0m\u001b[0m\n\u001b[0m\u001b[1;32m   3646\u001b[0m         elif (\n\u001b[1;32m   3647\u001b[0m             \u001b[0mis_list_like\u001b[0m\u001b[0;34m(\u001b[0m\u001b[0mvalue\u001b[0m\u001b[0;34m)\u001b[0m\u001b[0;34m\u001b[0m\u001b[0;34m\u001b[0m\u001b[0m\n",
      "\u001b[0;32m~/opt/anaconda3/lib/python3.9/site-packages/pandas/core/frame.py\u001b[0m in \u001b[0;36m_set_item_frame_value\u001b[0;34m(self, key, value)\u001b[0m\n\u001b[1;32m   3773\u001b[0m             \u001b[0mlen_cols\u001b[0m \u001b[0;34m=\u001b[0m \u001b[0;36m1\u001b[0m \u001b[0;32mif\u001b[0m \u001b[0mis_scalar\u001b[0m\u001b[0;34m(\u001b[0m\u001b[0mcols\u001b[0m\u001b[0;34m)\u001b[0m \u001b[0;32melse\u001b[0m \u001b[0mlen\u001b[0m\u001b[0;34m(\u001b[0m\u001b[0mcols\u001b[0m\u001b[0;34m)\u001b[0m\u001b[0;34m\u001b[0m\u001b[0;34m\u001b[0m\u001b[0m\n\u001b[1;32m   3774\u001b[0m             \u001b[0;32mif\u001b[0m \u001b[0mlen_cols\u001b[0m \u001b[0;34m!=\u001b[0m \u001b[0mlen\u001b[0m\u001b[0;34m(\u001b[0m\u001b[0mvalue\u001b[0m\u001b[0;34m.\u001b[0m\u001b[0mcolumns\u001b[0m\u001b[0;34m)\u001b[0m\u001b[0;34m:\u001b[0m\u001b[0;34m\u001b[0m\u001b[0;34m\u001b[0m\u001b[0m\n\u001b[0;32m-> 3775\u001b[0;31m                 \u001b[0;32mraise\u001b[0m \u001b[0mValueError\u001b[0m\u001b[0;34m(\u001b[0m\u001b[0;34m\"Columns must be same length as key\"\u001b[0m\u001b[0;34m)\u001b[0m\u001b[0;34m\u001b[0m\u001b[0;34m\u001b[0m\u001b[0m\n\u001b[0m\u001b[1;32m   3776\u001b[0m \u001b[0;34m\u001b[0m\u001b[0m\n\u001b[1;32m   3777\u001b[0m             \u001b[0;31m# align right-hand-side columns if self.columns\u001b[0m\u001b[0;34m\u001b[0m\u001b[0;34m\u001b[0m\u001b[0m\n",
      "\u001b[0;31mValueError\u001b[0m: Columns must be same length as key"
     ]
    }
   ],
   "source": [
    "example[1] = example[1].str.split(pat = '21', expand= True)"
   ]
  },
  {
   "cell_type": "code",
   "execution_count": 26,
   "metadata": {},
   "outputs": [
    {
     "name": "stderr",
     "output_type": "stream",
     "text": [
      "/var/folders/mh/9fr225sj6bd0qgb1553s86dw0000gn/T/ipykernel_21757/2111562690.py:8: SettingWithCopyWarning: \n",
      "A value is trying to be set on a copy of a slice from a DataFrame.\n",
      "Try using .loc[row_indexer,col_indexer] = value instead\n",
      "\n",
      "See the caveats in the documentation: https://pandas.pydata.org/pandas-docs/stable/user_guide/indexing.html#returning-a-view-versus-a-copy\n",
      "  tickets_dates['day_of_year'] = tickets_dates['event_date'].apply(get_the_day)\n"
     ]
    }
   ],
   "source": [
    "tickets_dates = tickets[['event_date']]\n",
    "#tickets_dates[\"day_nr\"] = range(len(tickets['event_date']))\n",
    "\n",
    "def get_the_day(dateyear):\n",
    "    date = datetime.strptime(dateyear, \"%Y-%m-%d\")\n",
    "    return date.timetuple().tm_yday\n",
    "\n",
    "tickets_dates['day_of_year'] = tickets_dates['event_date'].apply(get_the_day)\n"
   ]
  },
  {
   "cell_type": "code",
   "execution_count": 28,
   "metadata": {},
   "outputs": [],
   "source": [
    "rbf = RepeatingBasisFunction(n_periods=12,\n",
    "                         \tcolumn=\"day_of_year\",\n",
    "                         \tinput_range=(1,365),\n",
    "                         \tremainder=\"drop\")"
   ]
  },
  {
   "cell_type": "code",
   "execution_count": 33,
   "metadata": {},
   "outputs": [],
   "source": [
    "rbf.fit(tickets_dates)\n",
    "tickets_dates_tranformed = pd.DataFrame(index=tickets_dates.event_date,\n",
    "               \tdata=rbf.transform(tickets_dates))\n",
    "\n"
   ]
  },
  {
   "cell_type": "code",
   "execution_count": 34,
   "metadata": {},
   "outputs": [
    {
     "data": {
      "text/html": [
       "<div>\n",
       "<style scoped>\n",
       "    .dataframe tbody tr th:only-of-type {\n",
       "        vertical-align: middle;\n",
       "    }\n",
       "\n",
       "    .dataframe tbody tr th {\n",
       "        vertical-align: top;\n",
       "    }\n",
       "\n",
       "    .dataframe thead th {\n",
       "        text-align: right;\n",
       "    }\n",
       "</style>\n",
       "<table border=\"1\" class=\"dataframe\">\n",
       "  <thead>\n",
       "    <tr style=\"text-align: right;\">\n",
       "      <th></th>\n",
       "      <th>0</th>\n",
       "      <th>1</th>\n",
       "      <th>2</th>\n",
       "      <th>3</th>\n",
       "      <th>4</th>\n",
       "      <th>5</th>\n",
       "      <th>6</th>\n",
       "      <th>7</th>\n",
       "      <th>8</th>\n",
       "      <th>9</th>\n",
       "      <th>10</th>\n",
       "      <th>11</th>\n",
       "    </tr>\n",
       "    <tr>\n",
       "      <th>event_date</th>\n",
       "      <th></th>\n",
       "      <th></th>\n",
       "      <th></th>\n",
       "      <th></th>\n",
       "      <th></th>\n",
       "      <th></th>\n",
       "      <th></th>\n",
       "      <th></th>\n",
       "      <th></th>\n",
       "      <th></th>\n",
       "      <th></th>\n",
       "      <th></th>\n",
       "    </tr>\n",
       "  </thead>\n",
       "  <tbody>\n",
       "    <tr>\n",
       "      <th>2021-10-17</th>\n",
       "      <td>0.002213</td>\n",
       "      <td>0.000006</td>\n",
       "      <td>2.053948e-09</td>\n",
       "      <td>9.851605e-14</td>\n",
       "      <td>5.382962e-14</td>\n",
       "      <td>1.252646e-09</td>\n",
       "      <td>3.944997e-06</td>\n",
       "      <td>0.001681</td>\n",
       "      <td>0.096988</td>\n",
       "      <td>0.757125</td>\n",
       "      <td>0.799889</td>\n",
       "      <td>0.114368</td>\n",
       "    </tr>\n",
       "    <tr>\n",
       "      <th>2021-10-17</th>\n",
       "      <td>0.002213</td>\n",
       "      <td>0.000006</td>\n",
       "      <td>2.053948e-09</td>\n",
       "      <td>9.851605e-14</td>\n",
       "      <td>5.382962e-14</td>\n",
       "      <td>1.252646e-09</td>\n",
       "      <td>3.944997e-06</td>\n",
       "      <td>0.001681</td>\n",
       "      <td>0.096988</td>\n",
       "      <td>0.757125</td>\n",
       "      <td>0.799889</td>\n",
       "      <td>0.114368</td>\n",
       "    </tr>\n",
       "    <tr>\n",
       "      <th>2021-10-17</th>\n",
       "      <td>0.002213</td>\n",
       "      <td>0.000006</td>\n",
       "      <td>2.053948e-09</td>\n",
       "      <td>9.851605e-14</td>\n",
       "      <td>5.382962e-14</td>\n",
       "      <td>1.252646e-09</td>\n",
       "      <td>3.944997e-06</td>\n",
       "      <td>0.001681</td>\n",
       "      <td>0.096988</td>\n",
       "      <td>0.757125</td>\n",
       "      <td>0.799889</td>\n",
       "      <td>0.114368</td>\n",
       "    </tr>\n",
       "    <tr>\n",
       "      <th>2021-10-17</th>\n",
       "      <td>0.002213</td>\n",
       "      <td>0.000006</td>\n",
       "      <td>2.053948e-09</td>\n",
       "      <td>9.851605e-14</td>\n",
       "      <td>5.382962e-14</td>\n",
       "      <td>1.252646e-09</td>\n",
       "      <td>3.944997e-06</td>\n",
       "      <td>0.001681</td>\n",
       "      <td>0.096988</td>\n",
       "      <td>0.757125</td>\n",
       "      <td>0.799889</td>\n",
       "      <td>0.114368</td>\n",
       "    </tr>\n",
       "    <tr>\n",
       "      <th>2021-10-17</th>\n",
       "      <td>0.002213</td>\n",
       "      <td>0.000006</td>\n",
       "      <td>2.053948e-09</td>\n",
       "      <td>9.851605e-14</td>\n",
       "      <td>5.382962e-14</td>\n",
       "      <td>1.252646e-09</td>\n",
       "      <td>3.944997e-06</td>\n",
       "      <td>0.001681</td>\n",
       "      <td>0.096988</td>\n",
       "      <td>0.757125</td>\n",
       "      <td>0.799889</td>\n",
       "      <td>0.114368</td>\n",
       "    </tr>\n",
       "    <tr>\n",
       "      <th>...</th>\n",
       "      <td>...</td>\n",
       "      <td>...</td>\n",
       "      <td>...</td>\n",
       "      <td>...</td>\n",
       "      <td>...</td>\n",
       "      <td>...</td>\n",
       "      <td>...</td>\n",
       "      <td>...</td>\n",
       "      <td>...</td>\n",
       "      <td>...</td>\n",
       "      <td>...</td>\n",
       "      <td>...</td>\n",
       "    </tr>\n",
       "    <tr>\n",
       "      <th>2022-10-30</th>\n",
       "      <td>0.015333</td>\n",
       "      <td>0.000095</td>\n",
       "      <td>7.901876e-08</td>\n",
       "      <td>8.931002e-12</td>\n",
       "      <td>3.923177e-16</td>\n",
       "      <td>2.151283e-11</td>\n",
       "      <td>1.596497e-07</td>\n",
       "      <td>0.000160</td>\n",
       "      <td>0.021794</td>\n",
       "      <td>0.400909</td>\n",
       "      <td>0.998070</td>\n",
       "      <td>0.336269</td>\n",
       "    </tr>\n",
       "    <tr>\n",
       "      <th>2022-10-30</th>\n",
       "      <td>0.015333</td>\n",
       "      <td>0.000095</td>\n",
       "      <td>7.901876e-08</td>\n",
       "      <td>8.931002e-12</td>\n",
       "      <td>3.923177e-16</td>\n",
       "      <td>2.151283e-11</td>\n",
       "      <td>1.596497e-07</td>\n",
       "      <td>0.000160</td>\n",
       "      <td>0.021794</td>\n",
       "      <td>0.400909</td>\n",
       "      <td>0.998070</td>\n",
       "      <td>0.336269</td>\n",
       "    </tr>\n",
       "    <tr>\n",
       "      <th>2022-10-30</th>\n",
       "      <td>0.015333</td>\n",
       "      <td>0.000095</td>\n",
       "      <td>7.901876e-08</td>\n",
       "      <td>8.931002e-12</td>\n",
       "      <td>3.923177e-16</td>\n",
       "      <td>2.151283e-11</td>\n",
       "      <td>1.596497e-07</td>\n",
       "      <td>0.000160</td>\n",
       "      <td>0.021794</td>\n",
       "      <td>0.400909</td>\n",
       "      <td>0.998070</td>\n",
       "      <td>0.336269</td>\n",
       "    </tr>\n",
       "    <tr>\n",
       "      <th>2022-10-30</th>\n",
       "      <td>0.015333</td>\n",
       "      <td>0.000095</td>\n",
       "      <td>7.901876e-08</td>\n",
       "      <td>8.931002e-12</td>\n",
       "      <td>3.923177e-16</td>\n",
       "      <td>2.151283e-11</td>\n",
       "      <td>1.596497e-07</td>\n",
       "      <td>0.000160</td>\n",
       "      <td>0.021794</td>\n",
       "      <td>0.400909</td>\n",
       "      <td>0.998070</td>\n",
       "      <td>0.336269</td>\n",
       "    </tr>\n",
       "    <tr>\n",
       "      <th>2022-10-30</th>\n",
       "      <td>0.015333</td>\n",
       "      <td>0.000095</td>\n",
       "      <td>7.901876e-08</td>\n",
       "      <td>8.931002e-12</td>\n",
       "      <td>3.923177e-16</td>\n",
       "      <td>2.151283e-11</td>\n",
       "      <td>1.596497e-07</td>\n",
       "      <td>0.000160</td>\n",
       "      <td>0.021794</td>\n",
       "      <td>0.400909</td>\n",
       "      <td>0.998070</td>\n",
       "      <td>0.336269</td>\n",
       "    </tr>\n",
       "  </tbody>\n",
       "</table>\n",
       "<p>1286916 rows × 12 columns</p>\n",
       "</div>"
      ],
      "text/plain": [
       "                  0         1             2             3             4   \\\n",
       "event_date                                                                 \n",
       "2021-10-17  0.002213  0.000006  2.053948e-09  9.851605e-14  5.382962e-14   \n",
       "2021-10-17  0.002213  0.000006  2.053948e-09  9.851605e-14  5.382962e-14   \n",
       "2021-10-17  0.002213  0.000006  2.053948e-09  9.851605e-14  5.382962e-14   \n",
       "2021-10-17  0.002213  0.000006  2.053948e-09  9.851605e-14  5.382962e-14   \n",
       "2021-10-17  0.002213  0.000006  2.053948e-09  9.851605e-14  5.382962e-14   \n",
       "...              ...       ...           ...           ...           ...   \n",
       "2022-10-30  0.015333  0.000095  7.901876e-08  8.931002e-12  3.923177e-16   \n",
       "2022-10-30  0.015333  0.000095  7.901876e-08  8.931002e-12  3.923177e-16   \n",
       "2022-10-30  0.015333  0.000095  7.901876e-08  8.931002e-12  3.923177e-16   \n",
       "2022-10-30  0.015333  0.000095  7.901876e-08  8.931002e-12  3.923177e-16   \n",
       "2022-10-30  0.015333  0.000095  7.901876e-08  8.931002e-12  3.923177e-16   \n",
       "\n",
       "                      5             6         7         8         9   \\\n",
       "event_date                                                             \n",
       "2021-10-17  1.252646e-09  3.944997e-06  0.001681  0.096988  0.757125   \n",
       "2021-10-17  1.252646e-09  3.944997e-06  0.001681  0.096988  0.757125   \n",
       "2021-10-17  1.252646e-09  3.944997e-06  0.001681  0.096988  0.757125   \n",
       "2021-10-17  1.252646e-09  3.944997e-06  0.001681  0.096988  0.757125   \n",
       "2021-10-17  1.252646e-09  3.944997e-06  0.001681  0.096988  0.757125   \n",
       "...                  ...           ...       ...       ...       ...   \n",
       "2022-10-30  2.151283e-11  1.596497e-07  0.000160  0.021794  0.400909   \n",
       "2022-10-30  2.151283e-11  1.596497e-07  0.000160  0.021794  0.400909   \n",
       "2022-10-30  2.151283e-11  1.596497e-07  0.000160  0.021794  0.400909   \n",
       "2022-10-30  2.151283e-11  1.596497e-07  0.000160  0.021794  0.400909   \n",
       "2022-10-30  2.151283e-11  1.596497e-07  0.000160  0.021794  0.400909   \n",
       "\n",
       "                  10        11  \n",
       "event_date                      \n",
       "2021-10-17  0.799889  0.114368  \n",
       "2021-10-17  0.799889  0.114368  \n",
       "2021-10-17  0.799889  0.114368  \n",
       "2021-10-17  0.799889  0.114368  \n",
       "2021-10-17  0.799889  0.114368  \n",
       "...              ...       ...  \n",
       "2022-10-30  0.998070  0.336269  \n",
       "2022-10-30  0.998070  0.336269  \n",
       "2022-10-30  0.998070  0.336269  \n",
       "2022-10-30  0.998070  0.336269  \n",
       "2022-10-30  0.998070  0.336269  \n",
       "\n",
       "[1286916 rows x 12 columns]"
      ]
     },
     "execution_count": 34,
     "metadata": {},
     "output_type": "execute_result"
    }
   ],
   "source": [
    "tickets_dates_tranformed"
   ]
  },
  {
   "cell_type": "code",
   "execution_count": 32,
   "metadata": {},
   "outputs": [
    {
     "data": {
      "image/png": "[encoded data removed]",
      "text/plain": [
       "<Figure size 1008x576 with 12 Axes>"
      ]
     },
     "metadata": {
      "needs_background": "light"
     },
     "output_type": "display_data"
    }
   ],
   "source": [
    "tickets_dates_tranformed.plot(subplots=True, figsize=(14, 8),\n",
    "     \tsharex=True, title=\"Radial Basis Functions\",\n",
    "     \tlegend=False);"
   ]
  },
  {
   "cell_type": "code",
   "execution_count": 27,
   "metadata": {},
   "outputs": [
    {
     "data": {
      "text/html": [
       "<div>\n",
       "<style scoped>\n",
       "    .dataframe tbody tr th:only-of-type {\n",
       "        vertical-align: middle;\n",
       "    }\n",
       "\n",
       "    .dataframe tbody tr th {\n",
       "        vertical-align: top;\n",
       "    }\n",
       "\n",
       "    .dataframe thead th {\n",
       "        text-align: right;\n",
       "    }\n",
       "</style>\n",
       "<table border=\"1\" class=\"dataframe\">\n",
       "  <thead>\n",
       "    <tr style=\"text-align: right;\">\n",
       "      <th></th>\n",
       "      <th>event_date</th>\n",
       "      <th>day_of_year</th>\n",
       "    </tr>\n",
       "  </thead>\n",
       "  <tbody>\n",
       "    <tr>\n",
       "      <th>0</th>\n",
       "      <td>2021-10-17</td>\n",
       "      <td>290</td>\n",
       "    </tr>\n",
       "    <tr>\n",
       "      <th>1</th>\n",
       "      <td>2021-10-17</td>\n",
       "      <td>290</td>\n",
       "    </tr>\n",
       "    <tr>\n",
       "      <th>2</th>\n",
       "      <td>2021-10-17</td>\n",
       "      <td>290</td>\n",
       "    </tr>\n",
       "    <tr>\n",
       "      <th>3</th>\n",
       "      <td>2021-10-17</td>\n",
       "      <td>290</td>\n",
       "    </tr>\n",
       "    <tr>\n",
       "      <th>4</th>\n",
       "      <td>2021-10-17</td>\n",
       "      <td>290</td>\n",
       "    </tr>\n",
       "  </tbody>\n",
       "</table>\n",
       "</div>"
      ],
      "text/plain": [
       "   event_date  day_of_year\n",
       "0  2021-10-17          290\n",
       "1  2021-10-17          290\n",
       "2  2021-10-17          290\n",
       "3  2021-10-17          290\n",
       "4  2021-10-17          290"
      ]
     },
     "execution_count": 27,
     "metadata": {},
     "output_type": "execute_result"
    }
   ],
   "source": [
    "tickets_dates.head()"
   ]
  },
  {
   "cell_type": "code",
   "execution_count": 11,
   "metadata": {},
   "outputs": [],
   "source": [
    "# generate the DataFrame with dates\n",
    "range_of_dates = pd.date_range(start=\"2017-01-01\",\n",
    "                           \tend=\"2020-12-30\")\n",
    "X = pd.DataFrame(index=range_of_dates)\n",
    "\n",
    "# create a sequence of day numbers\n",
    "X[\"day_nr\"] = range(len(X))\n",
    "X[\"day_of_year\"] = X.index.day_of_year\n"
   ]
  },
  {
   "cell_type": "code",
   "execution_count": 12,
   "metadata": {},
   "outputs": [
    {
     "data": {
      "text/html": [
       "<div>\n",
       "<style scoped>\n",
       "    .dataframe tbody tr th:only-of-type {\n",
       "        vertical-align: middle;\n",
       "    }\n",
       "\n",
       "    .dataframe tbody tr th {\n",
       "        vertical-align: top;\n",
       "    }\n",
       "\n",
       "    .dataframe thead th {\n",
       "        text-align: right;\n",
       "    }\n",
       "</style>\n",
       "<table border=\"1\" class=\"dataframe\">\n",
       "  <thead>\n",
       "    <tr style=\"text-align: right;\">\n",
       "      <th></th>\n",
       "      <th>day_nr</th>\n",
       "      <th>day_of_year</th>\n",
       "    </tr>\n",
       "  </thead>\n",
       "  <tbody>\n",
       "    <tr>\n",
       "      <th>2017-01-01</th>\n",
       "      <td>0</td>\n",
       "      <td>1</td>\n",
       "    </tr>\n",
       "    <tr>\n",
       "      <th>2017-01-02</th>\n",
       "      <td>1</td>\n",
       "      <td>2</td>\n",
       "    </tr>\n",
       "    <tr>\n",
       "      <th>2017-01-03</th>\n",
       "      <td>2</td>\n",
       "      <td>3</td>\n",
       "    </tr>\n",
       "    <tr>\n",
       "      <th>2017-01-04</th>\n",
       "      <td>3</td>\n",
       "      <td>4</td>\n",
       "    </tr>\n",
       "    <tr>\n",
       "      <th>2017-01-05</th>\n",
       "      <td>4</td>\n",
       "      <td>5</td>\n",
       "    </tr>\n",
       "    <tr>\n",
       "      <th>...</th>\n",
       "      <td>...</td>\n",
       "      <td>...</td>\n",
       "    </tr>\n",
       "    <tr>\n",
       "      <th>2020-12-26</th>\n",
       "      <td>1455</td>\n",
       "      <td>361</td>\n",
       "    </tr>\n",
       "    <tr>\n",
       "      <th>2020-12-27</th>\n",
       "      <td>1456</td>\n",
       "      <td>362</td>\n",
       "    </tr>\n",
       "    <tr>\n",
       "      <th>2020-12-28</th>\n",
       "      <td>1457</td>\n",
       "      <td>363</td>\n",
       "    </tr>\n",
       "    <tr>\n",
       "      <th>2020-12-29</th>\n",
       "      <td>1458</td>\n",
       "      <td>364</td>\n",
       "    </tr>\n",
       "    <tr>\n",
       "      <th>2020-12-30</th>\n",
       "      <td>1459</td>\n",
       "      <td>365</td>\n",
       "    </tr>\n",
       "  </tbody>\n",
       "</table>\n",
       "<p>1460 rows × 2 columns</p>\n",
       "</div>"
      ],
      "text/plain": [
       "            day_nr  day_of_year\n",
       "2017-01-01       0            1\n",
       "2017-01-02       1            2\n",
       "2017-01-03       2            3\n",
       "2017-01-04       3            4\n",
       "2017-01-05       4            5\n",
       "...            ...          ...\n",
       "2020-12-26    1455          361\n",
       "2020-12-27    1456          362\n",
       "2020-12-28    1457          363\n",
       "2020-12-29    1458          364\n",
       "2020-12-30    1459          365\n",
       "\n",
       "[1460 rows x 2 columns]"
      ]
     },
     "execution_count": 12,
     "metadata": {},
     "output_type": "execute_result"
    }
   ],
   "source": [
    "X"
   ]
  },
  {
   "cell_type": "code",
   "execution_count": 38,
   "metadata": {},
   "outputs": [
    {
     "data": {
      "text/plain": [
       "array([nan,  3.,  5.,  2.,  1.,  4.])"
      ]
     },
     "execution_count": 38,
     "metadata": {},
     "output_type": "execute_result"
    }
   ],
   "source": [
    "tickets.Term.unique()"
   ]
  },
  {
   "cell_type": "code",
   "execution_count": 18,
   "metadata": {},
   "outputs": [
    {
     "name": "stdout",
     "output_type": "stream",
     "text": [
      "<class 'str'>\n"
     ]
    }
   ],
   "source": [
    "print(type(tickets[\"add_datetime\"][0]))"
   ]
  },
  {
   "cell_type": "code",
   "execution_count": 22,
   "metadata": {},
   "outputs": [
    {
     "data": {
      "text/plain": [
       "'2021-03-31'"
      ]
     },
     "execution_count": 22,
     "metadata": {},
     "output_type": "execute_result"
    }
   ],
   "source": [
    "tickets[\"add_datetime\"][0].split()[0]"
   ]
  },
  {
   "cell_type": "code",
   "execution_count": 35,
   "metadata": {},
   "outputs": [],
   "source": [
    "### Ticket added?\n",
    "\n",
    "def ticket_added(ticket_date_add):\n",
    "    if (ticket_date_add == 'NaN'):\n",
    "        return \"No\"\n",
    "    else:\n",
    "        return \"Yes\"\n",
    "        \n",
    "tickets[\"ticket_added\"] = tickets[\"add_datetime\"].apply(ticket_added)"
   ]
  },
  {
   "cell_type": "code",
   "execution_count": 33,
   "metadata": {},
   "outputs": [
    {
     "name": "stdout",
     "output_type": "stream",
     "text": [
      "0\n",
      "1\n",
      "2\n",
      "3\n",
      "4\n",
      "5\n",
      "6\n",
      "7\n",
      "8\n",
      "9\n",
      "10\n",
      "11\n",
      "12\n",
      "13\n",
      "14\n",
      "15\n",
      "16\n",
      "17\n",
      "18\n",
      "19\n",
      "20\n",
      "21\n",
      "22\n",
      "23\n",
      "24\n",
      "25\n",
      "26\n",
      "27\n",
      "28\n",
      "29\n",
      "30\n",
      "31\n",
      "32\n",
      "33\n",
      "34\n",
      "35\n",
      "36\n",
      "37\n",
      "38\n",
      "39\n",
      "40\n",
      "41\n",
      "42\n",
      "43\n",
      "44\n",
      "45\n",
      "46\n",
      "47\n",
      "48\n",
      "49\n",
      "50\n",
      "51\n",
      "52\n",
      "53\n",
      "54\n",
      "55\n",
      "56\n",
      "57\n",
      "58\n",
      "59\n",
      "60\n",
      "61\n",
      "62\n",
      "63\n",
      "64\n",
      "65\n",
      "66\n",
      "67\n",
      "68\n",
      "69\n",
      "70\n",
      "71\n",
      "72\n",
      "73\n",
      "74\n",
      "75\n",
      "76\n",
      "77\n",
      "78\n",
      "79\n",
      "80\n",
      "81\n",
      "82\n",
      "83\n",
      "84\n",
      "85\n",
      "86\n",
      "87\n",
      "88\n",
      "89\n",
      "90\n",
      "91\n",
      "92\n",
      "93\n",
      "94\n",
      "95\n",
      "96\n",
      "97\n",
      "98\n",
      "99\n",
      "100\n",
      "101\n",
      "102\n",
      "103\n",
      "104\n",
      "105\n",
      "106\n",
      "107\n",
      "108\n",
      "109\n",
      "110\n",
      "111\n",
      "112\n",
      "113\n",
      "114\n"
     ]
    },
    {
     "name": "stderr",
     "output_type": "stream",
     "text": [
      "/var/folders/mh/9fr225sj6bd0qgb1553s86dw0000gn/T/ipykernel_18259/2807151035.py:8: SettingWithCopyWarning: \n",
      "A value is trying to be set on a copy of a slice from a DataFrame\n",
      "\n",
      "See the caveats in the documentation: https://pandas.pydata.org/pandas-docs/stable/user_guide/indexing.html#returning-a-view-versus-a-copy\n",
      "  tickets[\"add_time\"][i] = tickets[\"add_datetime\"][i].split()[1]\n"
     ]
    },
    {
     "ename": "AttributeError",
     "evalue": "'float' object has no attribute 'split'",
     "output_type": "error",
     "traceback": [
      "\u001b[0;31m---------------------------------------------------------------------------\u001b[0m",
      "\u001b[0;31mAttributeError\u001b[0m                            Traceback (most recent call last)",
      "\u001b[0;32m/var/folders/mh/9fr225sj6bd0qgb1553s86dw0000gn/T/ipykernel_18259/2807151035.py\u001b[0m in \u001b[0;36m<module>\u001b[0;34m\u001b[0m\n\u001b[1;32m      6\u001b[0m     \u001b[0mprint\u001b[0m\u001b[0;34m(\u001b[0m\u001b[0mi\u001b[0m\u001b[0;34m)\u001b[0m\u001b[0;34m\u001b[0m\u001b[0;34m\u001b[0m\u001b[0m\n\u001b[1;32m      7\u001b[0m     \u001b[0;31m#tickets[\"add_date\"][i] = tickets[\"add_datetime\"][i].split()[0]\u001b[0m\u001b[0;34m\u001b[0m\u001b[0;34m\u001b[0m\u001b[0m\n\u001b[0;32m----> 8\u001b[0;31m     \u001b[0mtickets\u001b[0m\u001b[0;34m[\u001b[0m\u001b[0;34m\"add_time\"\u001b[0m\u001b[0;34m]\u001b[0m\u001b[0;34m[\u001b[0m\u001b[0mi\u001b[0m\u001b[0;34m]\u001b[0m \u001b[0;34m=\u001b[0m \u001b[0mtickets\u001b[0m\u001b[0;34m[\u001b[0m\u001b[0;34m\"add_datetime\"\u001b[0m\u001b[0;34m]\u001b[0m\u001b[0;34m[\u001b[0m\u001b[0mi\u001b[0m\u001b[0;34m]\u001b[0m\u001b[0;34m.\u001b[0m\u001b[0msplit\u001b[0m\u001b[0;34m(\u001b[0m\u001b[0;34m)\u001b[0m\u001b[0;34m[\u001b[0m\u001b[0;36m1\u001b[0m\u001b[0;34m]\u001b[0m\u001b[0;34m\u001b[0m\u001b[0;34m\u001b[0m\u001b[0m\n\u001b[0m\u001b[1;32m      9\u001b[0m     \u001b[0mi\u001b[0m \u001b[0;34m+=\u001b[0m\u001b[0;36m1\u001b[0m\u001b[0;34m\u001b[0m\u001b[0;34m\u001b[0m\u001b[0m\n",
      "\u001b[0;31mAttributeError\u001b[0m: 'float' object has no attribute 'split'"
     ]
    }
   ],
   "source": [
    "\n",
    "\n"
   ]
  },
  {
   "cell_type": "code",
   "execution_count": 6,
   "metadata": {},
   "outputs": [
    {
     "ename": "AttributeError",
     "evalue": "'str' object has no attribute 'date'",
     "output_type": "error",
     "traceback": [
      "\u001b[0;31m---------------------------------------------------------------------------\u001b[0m",
      "\u001b[0;31mAttributeError\u001b[0m                            Traceback (most recent call last)",
      "\u001b[0;32m/var/folders/mh/9fr225sj6bd0qgb1553s86dw0000gn/T/ipykernel_18259/1185301221.py\u001b[0m in \u001b[0;36m<module>\u001b[0;34m\u001b[0m\n\u001b[0;32m----> 1\u001b[0;31m \u001b[0mtickets\u001b[0m\u001b[0;34m[\u001b[0m\u001b[0;34m\"add_date\"\u001b[0m\u001b[0;34m]\u001b[0m \u001b[0;34m=\u001b[0m \u001b[0;34m[\u001b[0m\u001b[0md\u001b[0m\u001b[0;34m.\u001b[0m\u001b[0mdate\u001b[0m\u001b[0;34m(\u001b[0m\u001b[0;34m)\u001b[0m \u001b[0;32mfor\u001b[0m \u001b[0md\u001b[0m \u001b[0;32min\u001b[0m \u001b[0mtickets\u001b[0m\u001b[0;34m[\u001b[0m\u001b[0;34m\"add_datetime\"\u001b[0m\u001b[0;34m]\u001b[0m\u001b[0;34m]\u001b[0m\u001b[0;34m\u001b[0m\u001b[0;34m\u001b[0m\u001b[0m\n\u001b[0m\u001b[1;32m      2\u001b[0m \u001b[0mtickets\u001b[0m\u001b[0;34m[\u001b[0m\u001b[0;34m\"add_time\"\u001b[0m\u001b[0;34m]\u001b[0m \u001b[0;34m=\u001b[0m \u001b[0;34m[\u001b[0m\u001b[0md\u001b[0m\u001b[0;34m.\u001b[0m\u001b[0mtime\u001b[0m\u001b[0;34m(\u001b[0m\u001b[0;34m)\u001b[0m \u001b[0;32mfor\u001b[0m \u001b[0md\u001b[0m \u001b[0;32min\u001b[0m \u001b[0mtickets\u001b[0m\u001b[0;34m[\u001b[0m\u001b[0;34m\"add_datetime\"\u001b[0m\u001b[0;34m]\u001b[0m\u001b[0;34m]\u001b[0m\u001b[0;34m\u001b[0m\u001b[0;34m\u001b[0m\u001b[0m\n",
      "\u001b[0;32m/var/folders/mh/9fr225sj6bd0qgb1553s86dw0000gn/T/ipykernel_18259/1185301221.py\u001b[0m in \u001b[0;36m<listcomp>\u001b[0;34m(.0)\u001b[0m\n\u001b[0;32m----> 1\u001b[0;31m \u001b[0mtickets\u001b[0m\u001b[0;34m[\u001b[0m\u001b[0;34m\"add_date\"\u001b[0m\u001b[0;34m]\u001b[0m \u001b[0;34m=\u001b[0m \u001b[0;34m[\u001b[0m\u001b[0md\u001b[0m\u001b[0;34m.\u001b[0m\u001b[0mdate\u001b[0m\u001b[0;34m(\u001b[0m\u001b[0;34m)\u001b[0m \u001b[0;32mfor\u001b[0m \u001b[0md\u001b[0m \u001b[0;32min\u001b[0m \u001b[0mtickets\u001b[0m\u001b[0;34m[\u001b[0m\u001b[0;34m\"add_datetime\"\u001b[0m\u001b[0;34m]\u001b[0m\u001b[0;34m]\u001b[0m\u001b[0;34m\u001b[0m\u001b[0;34m\u001b[0m\u001b[0m\n\u001b[0m\u001b[1;32m      2\u001b[0m \u001b[0mtickets\u001b[0m\u001b[0;34m[\u001b[0m\u001b[0;34m\"add_time\"\u001b[0m\u001b[0;34m]\u001b[0m \u001b[0;34m=\u001b[0m \u001b[0;34m[\u001b[0m\u001b[0md\u001b[0m\u001b[0;34m.\u001b[0m\u001b[0mtime\u001b[0m\u001b[0;34m(\u001b[0m\u001b[0;34m)\u001b[0m \u001b[0;32mfor\u001b[0m \u001b[0md\u001b[0m \u001b[0;32min\u001b[0m \u001b[0mtickets\u001b[0m\u001b[0;34m[\u001b[0m\u001b[0;34m\"add_datetime\"\u001b[0m\u001b[0;34m]\u001b[0m\u001b[0;34m]\u001b[0m\u001b[0;34m\u001b[0m\u001b[0;34m\u001b[0m\u001b[0m\n",
      "\u001b[0;31mAttributeError\u001b[0m: 'str' object has no attribute 'date'"
     ]
    }
   ],
   "source": [
    "tickets[\"add_date\"] = [d.date() for d in tickets[\"add_datetime\"]]\n",
    "tickets[\"add_time\"] = [d.time() for d in tickets[\"add_datetime\"]]"
   ]
  },
  {
   "cell_type": "code",
   "execution_count": 34,
   "metadata": {},
   "outputs": [
    {
     "data": {
      "text/plain": [
       "acct_id                           190\n",
       "acct_type_desc                    NaN\n",
       "event_name                   CLT21HOU\n",
       "event_date                 2021-10-17\n",
       "plan_event_name                   NaN\n",
       "comp_name                         NaN\n",
       "section_name                      101\n",
       "row_name                           15\n",
       "SeatNum                            13\n",
       "price_code                       FS03\n",
       "PC1                                 F\n",
       "Price                           111.0\n",
       "paid                              NaN\n",
       "add_datetime                      NaN\n",
       "class_name                  DIST-OPEN\n",
       "status                          AVAIL\n",
       "Sales_Source                      NaN\n",
       "isHost                              0\n",
       "SeatType                           GA\n",
       "TicketClass                  Manifest\n",
       "Start Year                        NaN\n",
       "LastYear                          NaN\n",
       "Term                              NaN\n",
       "TicketType             SingleGm Avail\n",
       "SeatUniqueID                101-15-13\n",
       "Season                           2021\n",
       "ClubExpYear                       NaN\n",
       "Tenure                            NaN\n",
       "UniqueID           CLT21HOU-101-15-13\n",
       "isAttended                         No\n",
       "Resold                            NaN\n",
       "ResalePrice                       NaN\n",
       "ResaleDate                        NaN\n",
       "isSTM                             NaN\n",
       "opponent                          HOU\n",
       "add_date                           NA\n",
       "add_time                           NA\n",
       "Name: 114, dtype: object"
      ]
     },
     "execution_count": 34,
     "metadata": {},
     "output_type": "execute_result"
    }
   ],
   "source": [
    "tickets.iloc[114,:]"
   ]
  },
  {
   "cell_type": "code",
   "execution_count": null,
   "metadata": {},
   "outputs": [],
   "source": [
    "tickets.head()"
   ]
  },
  {
   "cell_type": "code",
   "execution_count": 51,
   "metadata": {},
   "outputs": [
    {
     "data": {
      "text/plain": [
       "array(['Y', nan, 'N', 'P'], dtype=object)"
      ]
     },
     "execution_count": 51,
     "metadata": {},
     "output_type": "execute_result"
    }
   ],
   "source": [
    "tickets['paid'].unique()\n",
    "\n",
    "tickets[['paid']] = tickets[['paid']].replace(np.nan, 'unknown')\n"
   ]
  },
  {
   "cell_type": "code",
   "execution_count": 52,
   "metadata": {},
   "outputs": [
    {
     "data": {
      "text/plain": [
       "array(['Season', 'Employee', 'Club', nan, 'Sponsor', 'Comp', 'House',\n",
       "       'Personal', 'Suite', 'Group', 'Opponents', 'Player', 'SG Suite',\n",
       "       'Single Game', 'Huntington 2015', 'Kids Club', 'Huntington 2018',\n",
       "       'Group NEW', 'Huntington 2016', 'Huntington 2017',\n",
       "       'Huntington 2014', 'Huntington 2019', 'Hold Account', 'Hold',\n",
       "       'NONRENEWAL', 'Huntington 2021', 'Huntington', 'Premium',\n",
       "       'Window Account', 'IU 2022', 'Huntington 2022'], dtype=object)"
      ]
     },
     "execution_count": 52,
     "metadata": {},
     "output_type": "execute_result"
    }
   ],
   "source": [
    "tickets['acct_type_desc'].unique()\n",
    "tickets[['acct_type_desc']] = tickets[['acct_type_desc']].replace(np.nan, 'acct_desc_unknown')\n"
   ]
  },
  {
   "cell_type": "code",
   "execution_count": 53,
   "metadata": {},
   "outputs": [
    {
     "data": {
      "text/plain": [
       "array(['Not Comp', 'Front Office/Club Staff', nan,\n",
       "       'VIP/Local Dignitaries', 'Coaches & Trainers',\n",
       "       'Charity/Community Relations', 'Game Entertainment',\n",
       "       'Youth Football', 'Promotions', 'Stadium Personnel', 'Players',\n",
       "       'Sponsors', 'League Employees', 'Miscellaneous', 'Covid-19',\n",
       "       'Media', 'Sales Prospecting', 'Game Official and Chain Crew',\n",
       "       'Customer Service', 'Club Alumni', 'Military', 'Ownership Guests',\n",
       "       'archiveBusiness'], dtype=object)"
      ]
     },
     "execution_count": 53,
     "metadata": {},
     "output_type": "execute_result"
    }
   ],
   "source": [
    "tickets['comp_name'].unique()\n",
    "tickets[['comp_name']] = tickets[['comp_name']].replace(np.nan, 'comp_name_unknown')\n",
    "\n"
   ]
  },
  {
   "cell_type": "code",
   "execution_count": 56,
   "metadata": {},
   "outputs": [
    {
     "data": {
      "text/plain": [
       "array(['21FS', nan, '21FS9', '22FS', '22FS8', '22FS9', '22MPACK',\n",
       "       '22MPACK2'], dtype=object)"
      ]
     },
     "execution_count": 56,
     "metadata": {},
     "output_type": "execute_result"
    }
   ],
   "source": [
    "tickets['plan_event_name'].unique()\n",
    "tickets[['plan_event_name']] = tickets[['plan_event_name']].replace(np.nan, 'plan_event_name_unknown')\n"
   ]
  },
  {
   "cell_type": "code",
   "execution_count": 59,
   "metadata": {},
   "outputs": [
    {
     "data": {
      "text/plain": [
       "array([25., 20.,  4., 32.,  7., 22., 38., 30., 24., 26., 18., 28., 23.,\n",
       "       11., 34., 29., 27.,  2.,  3., 19., 17., 31., 36., nan, 15., 21.,\n",
       "       16., 35., 12., 10., 37.,  8., 13.,  1., 14.,  9., 33.,  5.,  6.,\n",
       "        0.])"
      ]
     },
     "execution_count": 59,
     "metadata": {},
     "output_type": "execute_result"
    }
   ],
   "source": [
    "tickets['Tenure'].unique()"
   ]
  },
  {
   "cell_type": "code",
   "execution_count": 62,
   "metadata": {},
   "outputs": [
    {
     "data": {
      "text/plain": [
       "array([  nan, 2022., 2021., 2023., 2024.])"
      ]
     },
     "execution_count": 62,
     "metadata": {},
     "output_type": "execute_result"
    }
   ],
   "source": [
    "tickets['ClubExpYear'].unique()\n",
    "tickets[['ClubExpYear']] = tickets[['ClubExpYear']].replace(np.nan, 'exp_year_unknown')\n"
   ]
  },
  {
   "cell_type": "code",
   "execution_count": 71,
   "metadata": {},
   "outputs": [
    {
     "data": {
      "text/plain": [
       "array(['F', 'Y', 'G', 'D', 'B', 'W', 'A', '8', '5', 'C', '6', 'I', '9',\n",
       "       '7', 'J', 'L', 'N', 'Z', 'E', 'S', 'Q', 'M', 'K', 'H', 'U', 'V',\n",
       "       'T', 'R', 'P', 'O', 'X'], dtype=object)"
      ]
     },
     "execution_count": 71,
     "metadata": {},
     "output_type": "execute_result"
    }
   ],
   "source": [
    "tickets['PC1'].unique()"
   ]
  },
  {
   "cell_type": "code",
   "execution_count": 72,
   "metadata": {},
   "outputs": [
    {
     "data": {
      "text/plain": [
       "array([25., 20.,  4., 32.,  7., 22., 38., 30., 24., 26., 18., 28., 23.,\n",
       "       11., 34., 29., 27.,  2.,  3., 19., 17., 31., 36.,  0., 15., 21.,\n",
       "       16., 35., 12., 10., 37.,  8., 13.,  1., 14.,  9., 33.,  5.,  6.])"
      ]
     },
     "execution_count": 72,
     "metadata": {},
     "output_type": "execute_result"
    }
   ],
   "source": [
    "tickets['Tenure'].unique()"
   ]
  },
  {
   "cell_type": "code",
   "execution_count": 14,
   "metadata": {},
   "outputs": [
    {
     "data": {
      "text/plain": [
       "array([0., 1.])"
      ]
     },
     "execution_count": 14,
     "metadata": {},
     "output_type": "execute_result"
    }
   ],
   "source": [
    "tickets['Resold'].unique()"
   ]
  },
  {
   "cell_type": "code",
   "execution_count": 76,
   "metadata": {},
   "outputs": [
    {
     "data": {
      "text/html": [
       "<div>\n",
       "<style scoped>\n",
       "    .dataframe tbody tr th:only-of-type {\n",
       "        vertical-align: middle;\n",
       "    }\n",
       "\n",
       "    .dataframe tbody tr th {\n",
       "        vertical-align: top;\n",
       "    }\n",
       "\n",
       "    .dataframe thead th {\n",
       "        text-align: right;\n",
       "    }\n",
       "</style>\n",
       "<table border=\"1\" class=\"dataframe\">\n",
       "  <thead>\n",
       "    <tr style=\"text-align: right;\">\n",
       "      <th></th>\n",
       "      <th>acct_type_desc</th>\n",
       "      <th>event_name</th>\n",
       "      <th>plan_event_name</th>\n",
       "      <th>comp_name</th>\n",
       "      <th>section_name</th>\n",
       "      <th>row_name</th>\n",
       "      <th>SeatNum</th>\n",
       "      <th>price_code</th>\n",
       "      <th>PC1</th>\n",
       "      <th>Price</th>\n",
       "      <th>...</th>\n",
       "      <th>event_date_3</th>\n",
       "      <th>event_date_4</th>\n",
       "      <th>event_date_5</th>\n",
       "      <th>event_date_6</th>\n",
       "      <th>event_date_7</th>\n",
       "      <th>event_date_8</th>\n",
       "      <th>event_date_9</th>\n",
       "      <th>event_date_10</th>\n",
       "      <th>event_date_11</th>\n",
       "      <th>ticket_added</th>\n",
       "    </tr>\n",
       "  </thead>\n",
       "  <tbody>\n",
       "    <tr>\n",
       "      <th>0</th>\n",
       "      <td>Season</td>\n",
       "      <td>CLT21HOU</td>\n",
       "      <td>21FS</td>\n",
       "      <td>Not Comp</td>\n",
       "      <td>101</td>\n",
       "      <td>10</td>\n",
       "      <td>1</td>\n",
       "      <td>FR</td>\n",
       "      <td>F</td>\n",
       "      <td>111.0</td>\n",
       "      <td>...</td>\n",
       "      <td>9.851605e-14</td>\n",
       "      <td>5.382962e-14</td>\n",
       "      <td>1.252646e-09</td>\n",
       "      <td>0.000004</td>\n",
       "      <td>0.001681</td>\n",
       "      <td>0.096988</td>\n",
       "      <td>0.757125</td>\n",
       "      <td>0.799889</td>\n",
       "      <td>0.114368</td>\n",
       "      <td>Yes</td>\n",
       "    </tr>\n",
       "    <tr>\n",
       "      <th>1</th>\n",
       "      <td>Season</td>\n",
       "      <td>CLT21HOU</td>\n",
       "      <td>21FS</td>\n",
       "      <td>Not Comp</td>\n",
       "      <td>101</td>\n",
       "      <td>10</td>\n",
       "      <td>10</td>\n",
       "      <td>FR</td>\n",
       "      <td>F</td>\n",
       "      <td>111.0</td>\n",
       "      <td>...</td>\n",
       "      <td>9.851605e-14</td>\n",
       "      <td>5.382962e-14</td>\n",
       "      <td>1.252646e-09</td>\n",
       "      <td>0.000004</td>\n",
       "      <td>0.001681</td>\n",
       "      <td>0.096988</td>\n",
       "      <td>0.757125</td>\n",
       "      <td>0.799889</td>\n",
       "      <td>0.114368</td>\n",
       "      <td>Yes</td>\n",
       "    </tr>\n",
       "    <tr>\n",
       "      <th>2</th>\n",
       "      <td>Season</td>\n",
       "      <td>CLT21HOU</td>\n",
       "      <td>21FS</td>\n",
       "      <td>Not Comp</td>\n",
       "      <td>101</td>\n",
       "      <td>10</td>\n",
       "      <td>11</td>\n",
       "      <td>FR</td>\n",
       "      <td>F</td>\n",
       "      <td>111.0</td>\n",
       "      <td>...</td>\n",
       "      <td>9.851605e-14</td>\n",
       "      <td>5.382962e-14</td>\n",
       "      <td>1.252646e-09</td>\n",
       "      <td>0.000004</td>\n",
       "      <td>0.001681</td>\n",
       "      <td>0.096988</td>\n",
       "      <td>0.757125</td>\n",
       "      <td>0.799889</td>\n",
       "      <td>0.114368</td>\n",
       "      <td>Yes</td>\n",
       "    </tr>\n",
       "    <tr>\n",
       "      <th>3</th>\n",
       "      <td>Season</td>\n",
       "      <td>CLT21HOU</td>\n",
       "      <td>21FS</td>\n",
       "      <td>Not Comp</td>\n",
       "      <td>101</td>\n",
       "      <td>10</td>\n",
       "      <td>12</td>\n",
       "      <td>FR</td>\n",
       "      <td>F</td>\n",
       "      <td>111.0</td>\n",
       "      <td>...</td>\n",
       "      <td>9.851605e-14</td>\n",
       "      <td>5.382962e-14</td>\n",
       "      <td>1.252646e-09</td>\n",
       "      <td>0.000004</td>\n",
       "      <td>0.001681</td>\n",
       "      <td>0.096988</td>\n",
       "      <td>0.757125</td>\n",
       "      <td>0.799889</td>\n",
       "      <td>0.114368</td>\n",
       "      <td>Yes</td>\n",
       "    </tr>\n",
       "    <tr>\n",
       "      <th>4</th>\n",
       "      <td>Season</td>\n",
       "      <td>CLT21HOU</td>\n",
       "      <td>21FS</td>\n",
       "      <td>Not Comp</td>\n",
       "      <td>101</td>\n",
       "      <td>10</td>\n",
       "      <td>13</td>\n",
       "      <td>FR</td>\n",
       "      <td>F</td>\n",
       "      <td>111.0</td>\n",
       "      <td>...</td>\n",
       "      <td>9.851605e-14</td>\n",
       "      <td>5.382962e-14</td>\n",
       "      <td>1.252646e-09</td>\n",
       "      <td>0.000004</td>\n",
       "      <td>0.001681</td>\n",
       "      <td>0.096988</td>\n",
       "      <td>0.757125</td>\n",
       "      <td>0.799889</td>\n",
       "      <td>0.114368</td>\n",
       "      <td>Yes</td>\n",
       "    </tr>\n",
       "  </tbody>\n",
       "</table>\n",
       "<p>5 rows × 41 columns</p>\n",
       "</div>"
      ],
      "text/plain": [
       "  acct_type_desc event_name plan_event_name comp_name  section_name row_name  \\\n",
       "0         Season   CLT21HOU            21FS  Not Comp           101       10   \n",
       "1         Season   CLT21HOU            21FS  Not Comp           101       10   \n",
       "2         Season   CLT21HOU            21FS  Not Comp           101       10   \n",
       "3         Season   CLT21HOU            21FS  Not Comp           101       10   \n",
       "4         Season   CLT21HOU            21FS  Not Comp           101       10   \n",
       "\n",
       "   SeatNum price_code PC1  Price  ...  event_date_3  event_date_4  \\\n",
       "0        1         FR   F  111.0  ...  9.851605e-14  5.382962e-14   \n",
       "1       10         FR   F  111.0  ...  9.851605e-14  5.382962e-14   \n",
       "2       11         FR   F  111.0  ...  9.851605e-14  5.382962e-14   \n",
       "3       12         FR   F  111.0  ...  9.851605e-14  5.382962e-14   \n",
       "4       13         FR   F  111.0  ...  9.851605e-14  5.382962e-14   \n",
       "\n",
       "   event_date_5  event_date_6  event_date_7 event_date_8 event_date_9  \\\n",
       "0  1.252646e-09      0.000004      0.001681     0.096988     0.757125   \n",
       "1  1.252646e-09      0.000004      0.001681     0.096988     0.757125   \n",
       "2  1.252646e-09      0.000004      0.001681     0.096988     0.757125   \n",
       "3  1.252646e-09      0.000004      0.001681     0.096988     0.757125   \n",
       "4  1.252646e-09      0.000004      0.001681     0.096988     0.757125   \n",
       "\n",
       "   event_date_10 event_date_11 ticket_added  \n",
       "0       0.799889      0.114368          Yes  \n",
       "1       0.799889      0.114368          Yes  \n",
       "2       0.799889      0.114368          Yes  \n",
       "3       0.799889      0.114368          Yes  \n",
       "4       0.799889      0.114368          Yes  \n",
       "\n",
       "[5 rows x 41 columns]"
      ]
     },
     "execution_count": 76,
     "metadata": {},
     "output_type": "execute_result"
    }
   ],
   "source": [
    "tickets.head()"
   ]
  },
  {
   "cell_type": "code",
   "execution_count": 73,
   "metadata": {},
   "outputs": [
    {
     "data": {
      "text/plain": [
       "acct_type_desc     0\n",
       "event_name         0\n",
       "plan_event_name    0\n",
       "comp_name          0\n",
       "section_name       0\n",
       "row_name           0\n",
       "SeatNum            0\n",
       "price_code         0\n",
       "PC1                0\n",
       "Price              0\n",
       "paid               0\n",
       "class_name         0\n",
       "status             0\n",
       "Sales_Source       0\n",
       "isHost             0\n",
       "SeatType           0\n",
       "TicketClass        0\n",
       "Term               0\n",
       "TicketType         0\n",
       "SeatUniqueID       0\n",
       "Season             0\n",
       "ClubExpYear        0\n",
       "Tenure             0\n",
       "UniqueID           0\n",
       "isAttended         0\n",
       "Resold             0\n",
       "isSTM              0\n",
       "opponent           0\n",
       "event_date_0       0\n",
       "event_date_1       0\n",
       "event_date_2       0\n",
       "event_date_3       0\n",
       "event_date_4       0\n",
       "event_date_5       0\n",
       "event_date_6       0\n",
       "event_date_7       0\n",
       "event_date_8       0\n",
       "event_date_9       0\n",
       "event_date_10      0\n",
       "event_date_11      0\n",
       "ticket_added       0\n",
       "dtype: int64"
      ]
     },
     "execution_count": 73,
     "metadata": {},
     "output_type": "execute_result"
    }
   ],
   "source": [
    "tickets.isnull().sum()"
   ]
  },
  {
   "cell_type": "code",
   "execution_count": null,
   "metadata": {},
   "outputs": [],
   "source": []
  }
 ],
 "metadata": {
  "kernelspec": {
   "display_name": "base",
   "language": "python",
   "name": "python3"
  },
  "language_info": {
   "codemirror_mode": {
    "name": "ipython",
    "version": 3
   },
   "file_extension": ".py",
   "mimetype": "text/x-python",
   "name": "python",
   "nbconvert_exporter": "python",
   "pygments_lexer": "ipython3",
   "version": "3.9.7 (default, Sep 16 2021, 08:50:36) \n[Clang 10.0.0 ]"
  },
  "orig_nbformat": 4,
  "vscode": {
   "interpreter": {
    "hash": "3edbd7b23b0fac25ed01096b34e5f59511cb659c0b1d4bb21fa4d1eb2f403c11"
   }
  }
 },
 "nbformat": 4,
 "nbformat_minor": 2
}
